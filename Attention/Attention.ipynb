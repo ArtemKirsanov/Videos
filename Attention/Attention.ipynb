{
 "cells": [
  {
   "cell_type": "code",
   "execution_count": 2,
   "id": "9b50fdd2",
   "metadata": {},
   "outputs": [
    {
     "data": {
      "text/html": [
       "<pre style=\"white-space:pre;overflow-x:auto;line-height:normal;font-family:Menlo,'DejaVu Sans Mono',consolas,'Courier New',monospace\">Manim Community <span style=\"color: #008000; text-decoration-color: #008000\">v0.8.0</span>\n",
       "\n",
       "</pre>\n"
      ],
      "text/plain": [
       "Manim Community \u001b[32mv0.\u001b[0m\u001b[32m8.0\u001b[0m\n",
       "\n"
      ]
     },
     "metadata": {},
     "output_type": "display_data"
    }
   ],
   "source": [
    "from manim import *"
   ]
  },
  {
   "cell_type": "code",
   "execution_count": 27,
   "id": "128fc4ee",
   "metadata": {},
   "outputs": [],
   "source": [
    "class senses_scene(Scene):\n",
    "    def construct(self):\n",
    "        self.camera.background_color = WHITE\n",
    "        \n",
    "        image = ImageMobject(\"images/Attention/Brain with neurons V1.png\")\n",
    "        self.add(image)\n",
    "        \n",
    "        self.play( image.animate.scale(0.4).to_edge(UP),run_time=3)\n",
    "\n",
    "#        image.to_edge(UP)\n",
    " #       image.shift(UP)\n",
    "        \n",
    "        #-----------------Fist block - main senses --------------------------- #\n",
    "        texts = [\"Sights\",\"Sounds\",\"Tastes\",\"Smells\",\"Tactile\"]\n",
    "        icon_paths = [\"images/Attention/eye.svg\",\"images/Attention/ear.svg\",\"images/Attention/mouth.svg\",\"images/Attention/nose.svg\",\"images/Attention/arm.svg\" ]\n",
    "        \n",
    "        textMobjects = []\n",
    "        iconMobjects = []\n",
    "        \n",
    "        senses=[]\n",
    "        for i in range(len(texts)):\n",
    "            textMobjects.append(Text(texts[i]))\n",
    "            iconMobjects.append(SVGMobject(icon_paths[i]))\n",
    "\n",
    "            text = textMobjects[i]\n",
    "            icon = iconMobjects[i]\n",
    "            \n",
    "            icon.scale(0.5)\n",
    "            text.scale(0.7)\n",
    "            icon.next_to(text,DOWN)\n",
    "            text.set_color(BLACK)\n",
    "           \n",
    "            sense=VGroup(text,icon)\n",
    "            senses.append(sense)\n",
    "            if i==0:\n",
    "                sense.to_edge(LEFT+DOWN)\n",
    "            else:\n",
    "                sense.next_to(senses[i-1],6.5*RIGHT)\n",
    "                \n",
    "            self.play(Write(text),FadeIn(icon),run_time=1.2)\n",
    "            startPoint = text.get_center()+[0,0.5,0]\n",
    "            targetPoint = (image.get_center() - startPoint)*0.65+startPoint\n",
    "            arrow = CurvedArrow(startPoint,targetPoint,radius=15*(1-2*int(i<2)),tip_length=0.2)\n",
    "            arrow.set_color(GREY_B)\n",
    "            self.play(Create(arrow),run_time=0.7)\n",
    "            \n",
    "        self.wait(3)\n",
    "        \n",
    "        #-----------------Second block --------------------------- #\n",
    "                \n",
    "        texts = [\"Vestibular\",\"Internal\"]\n",
    "        icon_paths = [\"images/Attention/balance.svg\",\"images/Attention/stomach.svg\"]\n",
    "        \n",
    "        offsets = 2*[[0.5,0,0], [-0.5,0,0]]\n",
    "        positions = [UP+LEFT, UP+RIGHT]\n",
    "        textMobjects = []\n",
    "        iconMobjects = []\n",
    "        \n",
    "        senses=[]\n",
    "        for i in range(len(texts)):\n",
    "            textMobjects.append(Text(texts[i]))\n",
    "            iconMobjects.append(SVGMobject(icon_paths[i]))\n",
    "            \n",
    "            text = textMobjects[i]\n",
    "            icon = iconMobjects[i]\n",
    "            \n",
    "            icon.scale(0.5)\n",
    "            text.scale(0.7)\n",
    "            icon.next_to(text,DOWN)\n",
    "            text.set_color(BLACK)\n",
    "           \n",
    "            sense=VGroup(text,icon)\n",
    "            senses.append(sense)\n",
    "            \n",
    "            sense.to_edge(positions[i])\n",
    "            self.play(Write(text),FadeIn(icon))\n",
    "            \n",
    "            startPoint = icon.get_center() + offsets[i]\n",
    "            targetPoint = (image.get_center() - startPoint)*0.65+startPoint\n",
    "            arrow = CurvedArrow(startPoint,targetPoint,radius=15*(1-2*int(i<2)),tip_length=0.2)\n",
    "            arrow.set_color(GREY_B)\n",
    "            self.play(Create(arrow),run_time=0.5)\n",
    "            \n",
    "        \n",
    "        center = image.get_center()\n",
    "        \n",
    "        rainbow_arrow = CurvedArrow(center+0.7*(image.get_corner(UP+RIGHT)-center), center + (image.get_corner(LEFT+UP)-center)*0.7,tip_length=0.2)\n",
    "        rainbow_arrow.set_color([RED, BLUE, PURPLE])\n",
    "        self.play(Create(rainbow_arrow))\n",
    "        self.wait(2)\n",
    "                "
   ]
  },
  {
   "cell_type": "code",
   "execution_count": 28,
   "id": "4f34677b",
   "metadata": {},
   "outputs": [
    {
     "name": "stderr",
     "output_type": "stream",
     "text": [
      "                                                                                              \r"
     ]
    },
    {
     "data": {
      "text/html": [
       "<pre style=\"white-space:pre;overflow-x:auto;line-height:normal;font-family:Menlo,'DejaVu Sans Mono',consolas,'Courier New',monospace\"><span style=\"color: #7fbfbf; text-decoration-color: #7fbfbf\">[07/10/21 22:43:17] </span><span style=\"color: #008000; text-decoration-color: #008000\">INFO    </span> Animation <span style=\"color: #008000; text-decoration-color: #008000\">0</span> : Partial movie file        <a href=\"file:///Users/artem/opt/anaconda3/lib/python3.8/site-packages/manim/scene/scene_file_writer.py\"><span style=\"color: #7f7f7f; text-decoration-color: #7f7f7f\">scene_file_writer.py</span></a><span style=\"color: #7f7f7f; text-decoration-color: #7f7f7f\">:413</span>\n",
       "                             written in <span style=\"color: #008000; text-decoration-color: #008000\">'/Users/artem/Documents/Pyth</span>                         \n",
       "                             <span style=\"color: #008000; text-decoration-color: #008000\">on/Manim/media/videos/Manim/1080p60/par</span>                         \n",
       "                             <span style=\"color: #008000; text-decoration-color: #008000\">tial_movie_files/senses_</span><span style=\"color: #808000; text-decoration-color: #808000; font-weight: bold\">scene</span><span style=\"color: #008000; text-decoration-color: #008000\">/304424066</span>                         \n",
       "                             <span style=\"color: #008000; text-decoration-color: #008000\">6_3313882983_2235281764.mp4'</span>                                    \n",
       "</pre>\n"
      ],
      "text/plain": [
       "\u001b[2;36m[07/10/21 22:43:17]\u001b[0m\u001b[2;36m \u001b[0m\u001b[32mINFO    \u001b[0m Animation \u001b[32m0\u001b[0m : Partial movie file        \u001b]8;id=1625931797.848516-918766;file:///Users/artem/opt/anaconda3/lib/python3.8/site-packages/manim/scene/scene_file_writer.py\u001b\\\u001b[2mscene_file_writer.py\u001b[0m\u001b]8;;\u001b\\\u001b[2m:413\u001b[0m\n",
       "                             written in \u001b[32m'/Users/artem/Documents/Pyth\u001b[0m                         \n",
       "                             \u001b[32mon/Manim/media/videos/Manim/1080p60/par\u001b[0m                         \n",
       "                             \u001b[32mtial_movie_files/senses_\u001b[0m\u001b[1;33mscene\u001b[0m\u001b[32m/304424066\u001b[0m                         \n",
       "                             \u001b[32m6_3313882983_2235281764.mp4'\u001b[0m                                    \n"
      ]
     },
     "metadata": {},
     "output_type": "display_data"
    },
    {
     "name": "stderr",
     "output_type": "stream",
     "text": [
      "                                                                                         \r"
     ]
    },
    {
     "data": {
      "text/html": [
       "<pre style=\"white-space:pre;overflow-x:auto;line-height:normal;font-family:Menlo,'DejaVu Sans Mono',consolas,'Courier New',monospace\"><span style=\"color: #7fbfbf; text-decoration-color: #7fbfbf\">[07/10/21 22:43:19] </span><span style=\"color: #008000; text-decoration-color: #008000\">INFO    </span> Animation <span style=\"color: #008000; text-decoration-color: #008000\">1</span> : Partial movie file        <a href=\"file:///Users/artem/opt/anaconda3/lib/python3.8/site-packages/manim/scene/scene_file_writer.py\"><span style=\"color: #7f7f7f; text-decoration-color: #7f7f7f\">scene_file_writer.py</span></a><span style=\"color: #7f7f7f; text-decoration-color: #7f7f7f\">:413</span>\n",
       "                             written in <span style=\"color: #008000; text-decoration-color: #008000\">'/Users/artem/Documents/Pyth</span>                         \n",
       "                             <span style=\"color: #008000; text-decoration-color: #008000\">on/Manim/media/videos/Manim/1080p60/par</span>                         \n",
       "                             <span style=\"color: #008000; text-decoration-color: #008000\">tial_movie_files/senses_</span><span style=\"color: #808000; text-decoration-color: #808000; font-weight: bold\">scene</span><span style=\"color: #008000; text-decoration-color: #008000\">/144006928</span>                         \n",
       "                             <span style=\"color: #008000; text-decoration-color: #008000\">_2929169152_717271221.mp4'</span>                                      \n",
       "</pre>\n"
      ],
      "text/plain": [
       "\u001b[2;36m[07/10/21 22:43:19]\u001b[0m\u001b[2;36m \u001b[0m\u001b[32mINFO    \u001b[0m Animation \u001b[32m1\u001b[0m : Partial movie file        \u001b]8;id=1625931799.355241-472813;file:///Users/artem/opt/anaconda3/lib/python3.8/site-packages/manim/scene/scene_file_writer.py\u001b\\\u001b[2mscene_file_writer.py\u001b[0m\u001b]8;;\u001b\\\u001b[2m:413\u001b[0m\n",
       "                             written in \u001b[32m'/Users/artem/Documents/Pyth\u001b[0m                         \n",
       "                             \u001b[32mon/Manim/media/videos/Manim/1080p60/par\u001b[0m                         \n",
       "                             \u001b[32mtial_movie_files/senses_\u001b[0m\u001b[1;33mscene\u001b[0m\u001b[32m/144006928\u001b[0m                         \n",
       "                             \u001b[32m_2929169152_717271221.mp4'\u001b[0m                                      \n"
      ]
     },
     "metadata": {},
     "output_type": "display_data"
    },
    {
     "name": "stderr",
     "output_type": "stream",
     "text": [
      "                                                                                 \r"
     ]
    },
    {
     "data": {
      "text/html": [
       "<pre style=\"white-space:pre;overflow-x:auto;line-height:normal;font-family:Menlo,'DejaVu Sans Mono',consolas,'Courier New',monospace\"><span style=\"color: #7fbfbf; text-decoration-color: #7fbfbf\">[07/10/21 22:43:20] </span><span style=\"color: #008000; text-decoration-color: #008000\">INFO    </span> Animation <span style=\"color: #008000; text-decoration-color: #008000\">2</span> : Partial movie file        <a href=\"file:///Users/artem/opt/anaconda3/lib/python3.8/site-packages/manim/scene/scene_file_writer.py\"><span style=\"color: #7f7f7f; text-decoration-color: #7f7f7f\">scene_file_writer.py</span></a><span style=\"color: #7f7f7f; text-decoration-color: #7f7f7f\">:413</span>\n",
       "                             written in <span style=\"color: #008000; text-decoration-color: #008000\">'/Users/artem/Documents/Pyth</span>                         \n",
       "                             <span style=\"color: #008000; text-decoration-color: #008000\">on/Manim/media/videos/Manim/1080p60/par</span>                         \n",
       "                             <span style=\"color: #008000; text-decoration-color: #008000\">tial_movie_files/senses_</span><span style=\"color: #808000; text-decoration-color: #808000; font-weight: bold\">scene</span><span style=\"color: #008000; text-decoration-color: #008000\">/144006928</span>                         \n",
       "                             <span style=\"color: #008000; text-decoration-color: #008000\">_65596175_44224207.mp4'</span>                                         \n",
       "</pre>\n"
      ],
      "text/plain": [
       "\u001b[2;36m[07/10/21 22:43:20]\u001b[0m\u001b[2;36m \u001b[0m\u001b[32mINFO    \u001b[0m Animation \u001b[32m2\u001b[0m : Partial movie file        \u001b]8;id=1625931800.3012779-452156;file:///Users/artem/opt/anaconda3/lib/python3.8/site-packages/manim/scene/scene_file_writer.py\u001b\\\u001b[2mscene_file_writer.py\u001b[0m\u001b]8;;\u001b\\\u001b[2m:413\u001b[0m\n",
       "                             written in \u001b[32m'/Users/artem/Documents/Pyth\u001b[0m                         \n",
       "                             \u001b[32mon/Manim/media/videos/Manim/1080p60/par\u001b[0m                         \n",
       "                             \u001b[32mtial_movie_files/senses_\u001b[0m\u001b[1;33mscene\u001b[0m\u001b[32m/144006928\u001b[0m                         \n",
       "                             \u001b[32m_65596175_44224207.mp4'\u001b[0m                                         \n"
      ]
     },
     "metadata": {},
     "output_type": "display_data"
    },
    {
     "name": "stderr",
     "output_type": "stream",
     "text": [
      "                                                                                         \r"
     ]
    },
    {
     "data": {
      "text/html": [
       "<pre style=\"white-space:pre;overflow-x:auto;line-height:normal;font-family:Menlo,'DejaVu Sans Mono',consolas,'Courier New',monospace\"><span style=\"color: #7fbfbf; text-decoration-color: #7fbfbf\">[07/10/21 22:43:21] </span><span style=\"color: #008000; text-decoration-color: #008000\">INFO    </span> Animation <span style=\"color: #008000; text-decoration-color: #008000\">3</span> : Partial movie file        <a href=\"file:///Users/artem/opt/anaconda3/lib/python3.8/site-packages/manim/scene/scene_file_writer.py\"><span style=\"color: #7f7f7f; text-decoration-color: #7f7f7f\">scene_file_writer.py</span></a><span style=\"color: #7f7f7f; text-decoration-color: #7f7f7f\">:413</span>\n",
       "                             written in <span style=\"color: #008000; text-decoration-color: #008000\">'/Users/artem/Documents/Pyth</span>                         \n",
       "                             <span style=\"color: #008000; text-decoration-color: #008000\">on/Manim/media/videos/Manim/1080p60/par</span>                         \n",
       "                             <span style=\"color: #008000; text-decoration-color: #008000\">tial_movie_files/senses_</span><span style=\"color: #808000; text-decoration-color: #808000; font-weight: bold\">scene</span><span style=\"color: #008000; text-decoration-color: #008000\">/144006928</span>                         \n",
       "                             <span style=\"color: #008000; text-decoration-color: #008000\">_1524033653_1190038494.mp4'</span>                                     \n",
       "</pre>\n"
      ],
      "text/plain": [
       "\u001b[2;36m[07/10/21 22:43:21]\u001b[0m\u001b[2;36m \u001b[0m\u001b[32mINFO    \u001b[0m Animation \u001b[32m3\u001b[0m : Partial movie file        \u001b]8;id=1625931801.8418539-319787;file:///Users/artem/opt/anaconda3/lib/python3.8/site-packages/manim/scene/scene_file_writer.py\u001b\\\u001b[2mscene_file_writer.py\u001b[0m\u001b]8;;\u001b\\\u001b[2m:413\u001b[0m\n",
       "                             written in \u001b[32m'/Users/artem/Documents/Pyth\u001b[0m                         \n",
       "                             \u001b[32mon/Manim/media/videos/Manim/1080p60/par\u001b[0m                         \n",
       "                             \u001b[32mtial_movie_files/senses_\u001b[0m\u001b[1;33mscene\u001b[0m\u001b[32m/144006928\u001b[0m                         \n",
       "                             \u001b[32m_1524033653_1190038494.mp4'\u001b[0m                                     \n"
      ]
     },
     "metadata": {},
     "output_type": "display_data"
    },
    {
     "name": "stderr",
     "output_type": "stream",
     "text": [
      "                                                                                 \r"
     ]
    },
    {
     "data": {
      "text/html": [
       "<pre style=\"white-space:pre;overflow-x:auto;line-height:normal;font-family:Menlo,'DejaVu Sans Mono',consolas,'Courier New',monospace\"><span style=\"color: #7fbfbf; text-decoration-color: #7fbfbf\">[07/10/21 22:43:22] </span><span style=\"color: #008000; text-decoration-color: #008000\">INFO    </span> Animation <span style=\"color: #008000; text-decoration-color: #008000\">4</span> : Partial movie file        <a href=\"file:///Users/artem/opt/anaconda3/lib/python3.8/site-packages/manim/scene/scene_file_writer.py\"><span style=\"color: #7f7f7f; text-decoration-color: #7f7f7f\">scene_file_writer.py</span></a><span style=\"color: #7f7f7f; text-decoration-color: #7f7f7f\">:413</span>\n",
       "                             written in <span style=\"color: #008000; text-decoration-color: #008000\">'/Users/artem/Documents/Pyth</span>                         \n",
       "                             <span style=\"color: #008000; text-decoration-color: #008000\">on/Manim/media/videos/Manim/1080p60/par</span>                         \n",
       "                             <span style=\"color: #008000; text-decoration-color: #008000\">tial_movie_files/senses_</span><span style=\"color: #808000; text-decoration-color: #808000; font-weight: bold\">scene</span><span style=\"color: #008000; text-decoration-color: #008000\">/144006928</span>                         \n",
       "                             <span style=\"color: #008000; text-decoration-color: #008000\">_1085025350_95262992.mp4'</span>                                       \n",
       "</pre>\n"
      ],
      "text/plain": [
       "\u001b[2;36m[07/10/21 22:43:22]\u001b[0m\u001b[2;36m \u001b[0m\u001b[32mINFO    \u001b[0m Animation \u001b[32m4\u001b[0m : Partial movie file        \u001b]8;id=1625931802.876771-169870;file:///Users/artem/opt/anaconda3/lib/python3.8/site-packages/manim/scene/scene_file_writer.py\u001b\\\u001b[2mscene_file_writer.py\u001b[0m\u001b]8;;\u001b\\\u001b[2m:413\u001b[0m\n",
       "                             written in \u001b[32m'/Users/artem/Documents/Pyth\u001b[0m                         \n",
       "                             \u001b[32mon/Manim/media/videos/Manim/1080p60/par\u001b[0m                         \n",
       "                             \u001b[32mtial_movie_files/senses_\u001b[0m\u001b[1;33mscene\u001b[0m\u001b[32m/144006928\u001b[0m                         \n",
       "                             \u001b[32m_1085025350_95262992.mp4'\u001b[0m                                       \n"
      ]
     },
     "metadata": {},
     "output_type": "display_data"
    },
    {
     "name": "stderr",
     "output_type": "stream",
     "text": [
      "                                                                                         \r"
     ]
    },
    {
     "data": {
      "text/html": [
       "<pre style=\"white-space:pre;overflow-x:auto;line-height:normal;font-family:Menlo,'DejaVu Sans Mono',consolas,'Courier New',monospace\"><span style=\"color: #7fbfbf; text-decoration-color: #7fbfbf\">[07/10/21 22:43:24] </span><span style=\"color: #008000; text-decoration-color: #008000\">INFO    </span> Animation <span style=\"color: #008000; text-decoration-color: #008000\">5</span> : Partial movie file        <a href=\"file:///Users/artem/opt/anaconda3/lib/python3.8/site-packages/manim/scene/scene_file_writer.py\"><span style=\"color: #7f7f7f; text-decoration-color: #7f7f7f\">scene_file_writer.py</span></a><span style=\"color: #7f7f7f; text-decoration-color: #7f7f7f\">:413</span>\n",
       "                             written in <span style=\"color: #008000; text-decoration-color: #008000\">'/Users/artem/Documents/Pyth</span>                         \n",
       "                             <span style=\"color: #008000; text-decoration-color: #008000\">on/Manim/media/videos/Manim/1080p60/par</span>                         \n",
       "                             <span style=\"color: #008000; text-decoration-color: #008000\">tial_movie_files/senses_</span><span style=\"color: #808000; text-decoration-color: #808000; font-weight: bold\">scene</span><span style=\"color: #008000; text-decoration-color: #008000\">/144006928</span>                         \n",
       "                             <span style=\"color: #008000; text-decoration-color: #008000\">_637105569_3131266878.mp4'</span>                                      \n",
       "</pre>\n"
      ],
      "text/plain": [
       "\u001b[2;36m[07/10/21 22:43:24]\u001b[0m\u001b[2;36m \u001b[0m\u001b[32mINFO    \u001b[0m Animation \u001b[32m5\u001b[0m : Partial movie file        \u001b]8;id=1625931804.717685-221780;file:///Users/artem/opt/anaconda3/lib/python3.8/site-packages/manim/scene/scene_file_writer.py\u001b\\\u001b[2mscene_file_writer.py\u001b[0m\u001b]8;;\u001b\\\u001b[2m:413\u001b[0m\n",
       "                             written in \u001b[32m'/Users/artem/Documents/Pyth\u001b[0m                         \n",
       "                             \u001b[32mon/Manim/media/videos/Manim/1080p60/par\u001b[0m                         \n",
       "                             \u001b[32mtial_movie_files/senses_\u001b[0m\u001b[1;33mscene\u001b[0m\u001b[32m/144006928\u001b[0m                         \n",
       "                             \u001b[32m_637105569_3131266878.mp4'\u001b[0m                                      \n"
      ]
     },
     "metadata": {},
     "output_type": "display_data"
    },
    {
     "name": "stderr",
     "output_type": "stream",
     "text": [
      "                                                                                 \r"
     ]
    },
    {
     "data": {
      "text/html": [
       "<pre style=\"white-space:pre;overflow-x:auto;line-height:normal;font-family:Menlo,'DejaVu Sans Mono',consolas,'Courier New',monospace\"><span style=\"color: #7fbfbf; text-decoration-color: #7fbfbf\">[07/10/21 22:43:25] </span><span style=\"color: #008000; text-decoration-color: #008000\">INFO    </span> Animation <span style=\"color: #008000; text-decoration-color: #008000\">6</span> : Partial movie file        <a href=\"file:///Users/artem/opt/anaconda3/lib/python3.8/site-packages/manim/scene/scene_file_writer.py\"><span style=\"color: #7f7f7f; text-decoration-color: #7f7f7f\">scene_file_writer.py</span></a><span style=\"color: #7f7f7f; text-decoration-color: #7f7f7f\">:413</span>\n",
       "                             written in <span style=\"color: #008000; text-decoration-color: #008000\">'/Users/artem/Documents/Pyth</span>                         \n",
       "                             <span style=\"color: #008000; text-decoration-color: #008000\">on/Manim/media/videos/Manim/1080p60/par</span>                         \n",
       "                             <span style=\"color: #008000; text-decoration-color: #008000\">tial_movie_files/senses_</span><span style=\"color: #808000; text-decoration-color: #808000; font-weight: bold\">scene</span><span style=\"color: #008000; text-decoration-color: #008000\">/144006928</span>                         \n",
       "                             <span style=\"color: #008000; text-decoration-color: #008000\">_3610942318_210070900.mp4'</span>                                      \n",
       "</pre>\n"
      ],
      "text/plain": [
       "\u001b[2;36m[07/10/21 22:43:25]\u001b[0m\u001b[2;36m \u001b[0m\u001b[32mINFO    \u001b[0m Animation \u001b[32m6\u001b[0m : Partial movie file        \u001b]8;id=1625931805.760169-432879;file:///Users/artem/opt/anaconda3/lib/python3.8/site-packages/manim/scene/scene_file_writer.py\u001b\\\u001b[2mscene_file_writer.py\u001b[0m\u001b]8;;\u001b\\\u001b[2m:413\u001b[0m\n",
       "                             written in \u001b[32m'/Users/artem/Documents/Pyth\u001b[0m                         \n",
       "                             \u001b[32mon/Manim/media/videos/Manim/1080p60/par\u001b[0m                         \n",
       "                             \u001b[32mtial_movie_files/senses_\u001b[0m\u001b[1;33mscene\u001b[0m\u001b[32m/144006928\u001b[0m                         \n",
       "                             \u001b[32m_3610942318_210070900.mp4'\u001b[0m                                      \n"
      ]
     },
     "metadata": {},
     "output_type": "display_data"
    },
    {
     "name": "stderr",
     "output_type": "stream",
     "text": [
      "                                                                                         \r"
     ]
    },
    {
     "data": {
      "text/html": [
       "<pre style=\"white-space:pre;overflow-x:auto;line-height:normal;font-family:Menlo,'DejaVu Sans Mono',consolas,'Courier New',monospace\"><span style=\"color: #7fbfbf; text-decoration-color: #7fbfbf\">[07/10/21 22:43:27] </span><span style=\"color: #008000; text-decoration-color: #008000\">INFO    </span> Animation <span style=\"color: #008000; text-decoration-color: #008000\">7</span> : Partial movie file        <a href=\"file:///Users/artem/opt/anaconda3/lib/python3.8/site-packages/manim/scene/scene_file_writer.py\"><span style=\"color: #7f7f7f; text-decoration-color: #7f7f7f\">scene_file_writer.py</span></a><span style=\"color: #7f7f7f; text-decoration-color: #7f7f7f\">:413</span>\n",
       "                             written in <span style=\"color: #008000; text-decoration-color: #008000\">'/Users/artem/Documents/Pyth</span>                         \n",
       "                             <span style=\"color: #008000; text-decoration-color: #008000\">on/Manim/media/videos/Manim/1080p60/par</span>                         \n",
       "                             <span style=\"color: #008000; text-decoration-color: #008000\">tial_movie_files/senses_</span><span style=\"color: #808000; text-decoration-color: #808000; font-weight: bold\">scene</span><span style=\"color: #008000; text-decoration-color: #008000\">/144006928</span>                         \n",
       "                             <span style=\"color: #008000; text-decoration-color: #008000\">_3127944594_3309762037.mp4'</span>                                     \n",
       "</pre>\n"
      ],
      "text/plain": [
       "\u001b[2;36m[07/10/21 22:43:27]\u001b[0m\u001b[2;36m \u001b[0m\u001b[32mINFO    \u001b[0m Animation \u001b[32m7\u001b[0m : Partial movie file        \u001b]8;id=1625931807.517261-472861;file:///Users/artem/opt/anaconda3/lib/python3.8/site-packages/manim/scene/scene_file_writer.py\u001b\\\u001b[2mscene_file_writer.py\u001b[0m\u001b]8;;\u001b\\\u001b[2m:413\u001b[0m\n",
       "                             written in \u001b[32m'/Users/artem/Documents/Pyth\u001b[0m                         \n",
       "                             \u001b[32mon/Manim/media/videos/Manim/1080p60/par\u001b[0m                         \n",
       "                             \u001b[32mtial_movie_files/senses_\u001b[0m\u001b[1;33mscene\u001b[0m\u001b[32m/144006928\u001b[0m                         \n",
       "                             \u001b[32m_3127944594_3309762037.mp4'\u001b[0m                                     \n"
      ]
     },
     "metadata": {},
     "output_type": "display_data"
    },
    {
     "name": "stderr",
     "output_type": "stream",
     "text": [
      "                                                                                 \r"
     ]
    },
    {
     "data": {
      "text/html": [
       "<pre style=\"white-space:pre;overflow-x:auto;line-height:normal;font-family:Menlo,'DejaVu Sans Mono',consolas,'Courier New',monospace\"><span style=\"color: #7fbfbf; text-decoration-color: #7fbfbf\">[07/10/21 22:43:28] </span><span style=\"color: #008000; text-decoration-color: #008000\">INFO    </span> Animation <span style=\"color: #008000; text-decoration-color: #008000\">8</span> : Partial movie file        <a href=\"file:///Users/artem/opt/anaconda3/lib/python3.8/site-packages/manim/scene/scene_file_writer.py\"><span style=\"color: #7f7f7f; text-decoration-color: #7f7f7f\">scene_file_writer.py</span></a><span style=\"color: #7f7f7f; text-decoration-color: #7f7f7f\">:413</span>\n",
       "                             written in <span style=\"color: #008000; text-decoration-color: #008000\">'/Users/artem/Documents/Pyth</span>                         \n",
       "                             <span style=\"color: #008000; text-decoration-color: #008000\">on/Manim/media/videos/Manim/1080p60/par</span>                         \n",
       "                             <span style=\"color: #008000; text-decoration-color: #008000\">tial_movie_files/senses_</span><span style=\"color: #808000; text-decoration-color: #808000; font-weight: bold\">scene</span><span style=\"color: #008000; text-decoration-color: #008000\">/144006928</span>                         \n",
       "                             <span style=\"color: #008000; text-decoration-color: #008000\">_766928077_1149568096.mp4'</span>                                      \n",
       "</pre>\n"
      ],
      "text/plain": [
       "\u001b[2;36m[07/10/21 22:43:28]\u001b[0m\u001b[2;36m \u001b[0m\u001b[32mINFO    \u001b[0m Animation \u001b[32m8\u001b[0m : Partial movie file        \u001b]8;id=1625931808.720607-241911;file:///Users/artem/opt/anaconda3/lib/python3.8/site-packages/manim/scene/scene_file_writer.py\u001b\\\u001b[2mscene_file_writer.py\u001b[0m\u001b]8;;\u001b\\\u001b[2m:413\u001b[0m\n",
       "                             written in \u001b[32m'/Users/artem/Documents/Pyth\u001b[0m                         \n",
       "                             \u001b[32mon/Manim/media/videos/Manim/1080p60/par\u001b[0m                         \n",
       "                             \u001b[32mtial_movie_files/senses_\u001b[0m\u001b[1;33mscene\u001b[0m\u001b[32m/144006928\u001b[0m                         \n",
       "                             \u001b[32m_766928077_1149568096.mp4'\u001b[0m                                      \n"
      ]
     },
     "metadata": {},
     "output_type": "display_data"
    },
    {
     "name": "stderr",
     "output_type": "stream",
     "text": [
      "                                                                                          \r"
     ]
    },
    {
     "data": {
      "text/html": [
       "<pre style=\"white-space:pre;overflow-x:auto;line-height:normal;font-family:Menlo,'DejaVu Sans Mono',consolas,'Courier New',monospace\"><span style=\"color: #7fbfbf; text-decoration-color: #7fbfbf\">[07/10/21 22:43:30] </span><span style=\"color: #008000; text-decoration-color: #008000\">INFO    </span> Animation <span style=\"color: #008000; text-decoration-color: #008000\">9</span> : Partial movie file        <a href=\"file:///Users/artem/opt/anaconda3/lib/python3.8/site-packages/manim/scene/scene_file_writer.py\"><span style=\"color: #7f7f7f; text-decoration-color: #7f7f7f\">scene_file_writer.py</span></a><span style=\"color: #7f7f7f; text-decoration-color: #7f7f7f\">:413</span>\n",
       "                             written in <span style=\"color: #008000; text-decoration-color: #008000\">'/Users/artem/Documents/Pyth</span>                         \n",
       "                             <span style=\"color: #008000; text-decoration-color: #008000\">on/Manim/media/videos/Manim/1080p60/par</span>                         \n",
       "                             <span style=\"color: #008000; text-decoration-color: #008000\">tial_movie_files/senses_</span><span style=\"color: #808000; text-decoration-color: #808000; font-weight: bold\">scene</span><span style=\"color: #008000; text-decoration-color: #008000\">/144006928</span>                         \n",
       "                             <span style=\"color: #008000; text-decoration-color: #008000\">_3593813844_3656107542.mp4'</span>                                     \n",
       "</pre>\n"
      ],
      "text/plain": [
       "\u001b[2;36m[07/10/21 22:43:30]\u001b[0m\u001b[2;36m \u001b[0m\u001b[32mINFO    \u001b[0m Animation \u001b[32m9\u001b[0m : Partial movie file        \u001b]8;id=1625931810.58446-776228;file:///Users/artem/opt/anaconda3/lib/python3.8/site-packages/manim/scene/scene_file_writer.py\u001b\\\u001b[2mscene_file_writer.py\u001b[0m\u001b]8;;\u001b\\\u001b[2m:413\u001b[0m\n",
       "                             written in \u001b[32m'/Users/artem/Documents/Pyth\u001b[0m                         \n",
       "                             \u001b[32mon/Manim/media/videos/Manim/1080p60/par\u001b[0m                         \n",
       "                             \u001b[32mtial_movie_files/senses_\u001b[0m\u001b[1;33mscene\u001b[0m\u001b[32m/144006928\u001b[0m                         \n",
       "                             \u001b[32m_3593813844_3656107542.mp4'\u001b[0m                                     \n"
      ]
     },
     "metadata": {},
     "output_type": "display_data"
    },
    {
     "name": "stderr",
     "output_type": "stream",
     "text": [
      "                                                                                  \r"
     ]
    },
    {
     "data": {
      "text/html": [
       "<pre style=\"white-space:pre;overflow-x:auto;line-height:normal;font-family:Menlo,'DejaVu Sans Mono',consolas,'Courier New',monospace\"><span style=\"color: #7fbfbf; text-decoration-color: #7fbfbf\">[07/10/21 22:43:31] </span><span style=\"color: #008000; text-decoration-color: #008000\">INFO    </span> Animation <span style=\"color: #008000; text-decoration-color: #008000\">10</span> : Partial movie file       <a href=\"file:///Users/artem/opt/anaconda3/lib/python3.8/site-packages/manim/scene/scene_file_writer.py\"><span style=\"color: #7f7f7f; text-decoration-color: #7f7f7f\">scene_file_writer.py</span></a><span style=\"color: #7f7f7f; text-decoration-color: #7f7f7f\">:413</span>\n",
       "                             written in <span style=\"color: #008000; text-decoration-color: #008000\">'/Users/artem/Documents/Pyth</span>                         \n",
       "                             <span style=\"color: #008000; text-decoration-color: #008000\">on/Manim/media/videos/Manim/1080p60/par</span>                         \n",
       "                             <span style=\"color: #008000; text-decoration-color: #008000\">tial_movie_files/senses_</span><span style=\"color: #808000; text-decoration-color: #808000; font-weight: bold\">scene</span><span style=\"color: #008000; text-decoration-color: #008000\">/144006928</span>                         \n",
       "                             <span style=\"color: #008000; text-decoration-color: #008000\">_520895208_1636459857.mp4'</span>                                      \n",
       "</pre>\n"
      ],
      "text/plain": [
       "\u001b[2;36m[07/10/21 22:43:31]\u001b[0m\u001b[2;36m \u001b[0m\u001b[32mINFO    \u001b[0m Animation \u001b[32m10\u001b[0m : Partial movie file       \u001b]8;id=1625931811.836489-521868;file:///Users/artem/opt/anaconda3/lib/python3.8/site-packages/manim/scene/scene_file_writer.py\u001b\\\u001b[2mscene_file_writer.py\u001b[0m\u001b]8;;\u001b\\\u001b[2m:413\u001b[0m\n",
       "                             written in \u001b[32m'/Users/artem/Documents/Pyth\u001b[0m                         \n",
       "                             \u001b[32mon/Manim/media/videos/Manim/1080p60/par\u001b[0m                         \n",
       "                             \u001b[32mtial_movie_files/senses_\u001b[0m\u001b[1;33mscene\u001b[0m\u001b[32m/144006928\u001b[0m                         \n",
       "                             \u001b[32m_520895208_1636459857.mp4'\u001b[0m                                      \n"
      ]
     },
     "metadata": {},
     "output_type": "display_data"
    },
    {
     "data": {
      "text/html": [
       "<pre style=\"white-space:pre;overflow-x:auto;line-height:normal;font-family:Menlo,'DejaVu Sans Mono',consolas,'Courier New',monospace\"><span style=\"color: #7fbfbf; text-decoration-color: #7fbfbf\">[07/10/21 22:43:34] </span><span style=\"color: #008000; text-decoration-color: #008000\">INFO    </span> Animation <span style=\"color: #008000; text-decoration-color: #008000\">11</span> : Partial movie file       <a href=\"file:///Users/artem/opt/anaconda3/lib/python3.8/site-packages/manim/scene/scene_file_writer.py\"><span style=\"color: #7f7f7f; text-decoration-color: #7f7f7f\">scene_file_writer.py</span></a><span style=\"color: #7f7f7f; text-decoration-color: #7f7f7f\">:413</span>\n",
       "                             written in <span style=\"color: #008000; text-decoration-color: #008000\">'/Users/artem/Documents/Pyth</span>                         \n",
       "                             <span style=\"color: #008000; text-decoration-color: #008000\">on/Manim/media/videos/Manim/1080p60/par</span>                         \n",
       "                             <span style=\"color: #008000; text-decoration-color: #008000\">tial_movie_files/senses_</span><span style=\"color: #808000; text-decoration-color: #808000; font-weight: bold\">scene</span><span style=\"color: #008000; text-decoration-color: #008000\">/144006928</span>                         \n",
       "                             <span style=\"color: #008000; text-decoration-color: #008000\">_2460498451_2847096623.mp4'</span>                                     \n",
       "</pre>\n"
      ],
      "text/plain": [
       "\u001b[2;36m[07/10/21 22:43:34]\u001b[0m\u001b[2;36m \u001b[0m\u001b[32mINFO    \u001b[0m Animation \u001b[32m11\u001b[0m : Partial movie file       \u001b]8;id=1625931814.727587-349463;file:///Users/artem/opt/anaconda3/lib/python3.8/site-packages/manim/scene/scene_file_writer.py\u001b\\\u001b[2mscene_file_writer.py\u001b[0m\u001b]8;;\u001b\\\u001b[2m:413\u001b[0m\n",
       "                             written in \u001b[32m'/Users/artem/Documents/Pyth\u001b[0m                         \n",
       "                             \u001b[32mon/Manim/media/videos/Manim/1080p60/par\u001b[0m                         \n",
       "                             \u001b[32mtial_movie_files/senses_\u001b[0m\u001b[1;33mscene\u001b[0m\u001b[32m/144006928\u001b[0m                         \n",
       "                             \u001b[32m_2460498451_2847096623.mp4'\u001b[0m                                     \n"
      ]
     },
     "metadata": {},
     "output_type": "display_data"
    },
    {
     "name": "stderr",
     "output_type": "stream",
     "text": [
      "                                                                                              \r"
     ]
    },
    {
     "data": {
      "text/html": [
       "<pre style=\"white-space:pre;overflow-x:auto;line-height:normal;font-family:Menlo,'DejaVu Sans Mono',consolas,'Courier New',monospace\"><span style=\"color: #7fbfbf; text-decoration-color: #7fbfbf\">[07/10/21 22:43:36] </span><span style=\"color: #008000; text-decoration-color: #008000\">INFO    </span> Animation <span style=\"color: #008000; text-decoration-color: #008000\">12</span> : Partial movie file       <a href=\"file:///Users/artem/opt/anaconda3/lib/python3.8/site-packages/manim/scene/scene_file_writer.py\"><span style=\"color: #7f7f7f; text-decoration-color: #7f7f7f\">scene_file_writer.py</span></a><span style=\"color: #7f7f7f; text-decoration-color: #7f7f7f\">:413</span>\n",
       "                             written in <span style=\"color: #008000; text-decoration-color: #008000\">'/Users/artem/Documents/Pyth</span>                         \n",
       "                             <span style=\"color: #008000; text-decoration-color: #008000\">on/Manim/media/videos/Manim/1080p60/par</span>                         \n",
       "                             <span style=\"color: #008000; text-decoration-color: #008000\">tial_movie_files/senses_</span><span style=\"color: #808000; text-decoration-color: #808000; font-weight: bold\">scene</span><span style=\"color: #008000; text-decoration-color: #008000\">/144006928</span>                         \n",
       "                             <span style=\"color: #008000; text-decoration-color: #008000\">_578000611_574949934.mp4'</span>                                       \n",
       "</pre>\n"
      ],
      "text/plain": [
       "\u001b[2;36m[07/10/21 22:43:36]\u001b[0m\u001b[2;36m \u001b[0m\u001b[32mINFO    \u001b[0m Animation \u001b[32m12\u001b[0m : Partial movie file       \u001b]8;id=1625931816.6785438-454804;file:///Users/artem/opt/anaconda3/lib/python3.8/site-packages/manim/scene/scene_file_writer.py\u001b\\\u001b[2mscene_file_writer.py\u001b[0m\u001b]8;;\u001b\\\u001b[2m:413\u001b[0m\n",
       "                             written in \u001b[32m'/Users/artem/Documents/Pyth\u001b[0m                         \n",
       "                             \u001b[32mon/Manim/media/videos/Manim/1080p60/par\u001b[0m                         \n",
       "                             \u001b[32mtial_movie_files/senses_\u001b[0m\u001b[1;33mscene\u001b[0m\u001b[32m/144006928\u001b[0m                         \n",
       "                             \u001b[32m_578000611_574949934.mp4'\u001b[0m                                       \n"
      ]
     },
     "metadata": {},
     "output_type": "display_data"
    },
    {
     "name": "stderr",
     "output_type": "stream",
     "text": [
      "                                                                                  \r"
     ]
    },
    {
     "data": {
      "text/html": [
       "<pre style=\"white-space:pre;overflow-x:auto;line-height:normal;font-family:Menlo,'DejaVu Sans Mono',consolas,'Courier New',monospace\"><span style=\"color: #7fbfbf; text-decoration-color: #7fbfbf\">[07/10/21 22:43:37] </span><span style=\"color: #008000; text-decoration-color: #008000\">INFO    </span> Animation <span style=\"color: #008000; text-decoration-color: #008000\">13</span> : Partial movie file       <a href=\"file:///Users/artem/opt/anaconda3/lib/python3.8/site-packages/manim/scene/scene_file_writer.py\"><span style=\"color: #7f7f7f; text-decoration-color: #7f7f7f\">scene_file_writer.py</span></a><span style=\"color: #7f7f7f; text-decoration-color: #7f7f7f\">:413</span>\n",
       "                             written in <span style=\"color: #008000; text-decoration-color: #008000\">'/Users/artem/Documents/Pyth</span>                         \n",
       "                             <span style=\"color: #008000; text-decoration-color: #008000\">on/Manim/media/videos/Manim/1080p60/par</span>                         \n",
       "                             <span style=\"color: #008000; text-decoration-color: #008000\">tial_movie_files/senses_</span><span style=\"color: #808000; text-decoration-color: #808000; font-weight: bold\">scene</span><span style=\"color: #008000; text-decoration-color: #008000\">/144006928</span>                         \n",
       "                             <span style=\"color: #008000; text-decoration-color: #008000\">_1187239911_3829724516.mp4'</span>                                     \n",
       "</pre>\n"
      ],
      "text/plain": [
       "\u001b[2;36m[07/10/21 22:43:37]\u001b[0m\u001b[2;36m \u001b[0m\u001b[32mINFO    \u001b[0m Animation \u001b[32m13\u001b[0m : Partial movie file       \u001b]8;id=1625931817.706197-119937;file:///Users/artem/opt/anaconda3/lib/python3.8/site-packages/manim/scene/scene_file_writer.py\u001b\\\u001b[2mscene_file_writer.py\u001b[0m\u001b]8;;\u001b\\\u001b[2m:413\u001b[0m\n",
       "                             written in \u001b[32m'/Users/artem/Documents/Pyth\u001b[0m                         \n",
       "                             \u001b[32mon/Manim/media/videos/Manim/1080p60/par\u001b[0m                         \n",
       "                             \u001b[32mtial_movie_files/senses_\u001b[0m\u001b[1;33mscene\u001b[0m\u001b[32m/144006928\u001b[0m                         \n",
       "                             \u001b[32m_1187239911_3829724516.mp4'\u001b[0m                                     \n"
      ]
     },
     "metadata": {},
     "output_type": "display_data"
    },
    {
     "name": "stderr",
     "output_type": "stream",
     "text": [
      "                                                                                            \r"
     ]
    },
    {
     "data": {
      "text/html": [
       "<pre style=\"white-space:pre;overflow-x:auto;line-height:normal;font-family:Menlo,'DejaVu Sans Mono',consolas,'Courier New',monospace\"><span style=\"color: #7fbfbf; text-decoration-color: #7fbfbf\">[07/10/21 22:43:39] </span><span style=\"color: #008000; text-decoration-color: #008000\">INFO    </span> Animation <span style=\"color: #008000; text-decoration-color: #008000\">14</span> : Partial movie file       <a href=\"file:///Users/artem/opt/anaconda3/lib/python3.8/site-packages/manim/scene/scene_file_writer.py\"><span style=\"color: #7f7f7f; text-decoration-color: #7f7f7f\">scene_file_writer.py</span></a><span style=\"color: #7f7f7f; text-decoration-color: #7f7f7f\">:413</span>\n",
       "                             written in <span style=\"color: #008000; text-decoration-color: #008000\">'/Users/artem/Documents/Pyth</span>                         \n",
       "                             <span style=\"color: #008000; text-decoration-color: #008000\">on/Manim/media/videos/Manim/1080p60/par</span>                         \n",
       "                             <span style=\"color: #008000; text-decoration-color: #008000\">tial_movie_files/senses_</span><span style=\"color: #808000; text-decoration-color: #808000; font-weight: bold\">scene</span><span style=\"color: #008000; text-decoration-color: #008000\">/144006928</span>                         \n",
       "                             <span style=\"color: #008000; text-decoration-color: #008000\">_1047177877_2988846048.mp4'</span>                                     \n",
       "</pre>\n"
      ],
      "text/plain": [
       "\u001b[2;36m[07/10/21 22:43:39]\u001b[0m\u001b[2;36m \u001b[0m\u001b[32mINFO    \u001b[0m Animation \u001b[32m14\u001b[0m : Partial movie file       \u001b]8;id=1625931819.645003-425644;file:///Users/artem/opt/anaconda3/lib/python3.8/site-packages/manim/scene/scene_file_writer.py\u001b\\\u001b[2mscene_file_writer.py\u001b[0m\u001b]8;;\u001b\\\u001b[2m:413\u001b[0m\n",
       "                             written in \u001b[32m'/Users/artem/Documents/Pyth\u001b[0m                         \n",
       "                             \u001b[32mon/Manim/media/videos/Manim/1080p60/par\u001b[0m                         \n",
       "                             \u001b[32mtial_movie_files/senses_\u001b[0m\u001b[1;33mscene\u001b[0m\u001b[32m/144006928\u001b[0m                         \n",
       "                             \u001b[32m_1047177877_2988846048.mp4'\u001b[0m                                     \n"
      ]
     },
     "metadata": {},
     "output_type": "display_data"
    },
    {
     "name": "stderr",
     "output_type": "stream",
     "text": [
      "                                                                                  \r"
     ]
    },
    {
     "data": {
      "text/html": [
       "<pre style=\"white-space:pre;overflow-x:auto;line-height:normal;font-family:Menlo,'DejaVu Sans Mono',consolas,'Courier New',monospace\"><span style=\"color: #7fbfbf; text-decoration-color: #7fbfbf\">[07/10/21 22:43:40] </span><span style=\"color: #008000; text-decoration-color: #008000\">INFO    </span> Animation <span style=\"color: #008000; text-decoration-color: #008000\">15</span> : Partial movie file       <a href=\"file:///Users/artem/opt/anaconda3/lib/python3.8/site-packages/manim/scene/scene_file_writer.py\"><span style=\"color: #7f7f7f; text-decoration-color: #7f7f7f\">scene_file_writer.py</span></a><span style=\"color: #7f7f7f; text-decoration-color: #7f7f7f\">:413</span>\n",
       "                             written in <span style=\"color: #008000; text-decoration-color: #008000\">'/Users/artem/Documents/Pyth</span>                         \n",
       "                             <span style=\"color: #008000; text-decoration-color: #008000\">on/Manim/media/videos/Manim/1080p60/par</span>                         \n",
       "                             <span style=\"color: #008000; text-decoration-color: #008000\">tial_movie_files/senses_</span><span style=\"color: #808000; text-decoration-color: #808000; font-weight: bold\">scene</span><span style=\"color: #008000; text-decoration-color: #008000\">/144006928</span>                         \n",
       "                             <span style=\"color: #008000; text-decoration-color: #008000\">_601561688_820672094.mp4'</span>                                       \n",
       "</pre>\n"
      ],
      "text/plain": [
       "\u001b[2;36m[07/10/21 22:43:40]\u001b[0m\u001b[2;36m \u001b[0m\u001b[32mINFO    \u001b[0m Animation \u001b[32m15\u001b[0m : Partial movie file       \u001b]8;id=1625931820.756659-204156;file:///Users/artem/opt/anaconda3/lib/python3.8/site-packages/manim/scene/scene_file_writer.py\u001b\\\u001b[2mscene_file_writer.py\u001b[0m\u001b]8;;\u001b\\\u001b[2m:413\u001b[0m\n",
       "                             written in \u001b[32m'/Users/artem/Documents/Pyth\u001b[0m                         \n",
       "                             \u001b[32mon/Manim/media/videos/Manim/1080p60/par\u001b[0m                         \n",
       "                             \u001b[32mtial_movie_files/senses_\u001b[0m\u001b[1;33mscene\u001b[0m\u001b[32m/144006928\u001b[0m                         \n",
       "                             \u001b[32m_601561688_820672094.mp4'\u001b[0m                                       \n"
      ]
     },
     "metadata": {},
     "output_type": "display_data"
    },
    {
     "name": "stderr",
     "output_type": "stream",
     "text": [
      "                                                                                  \r"
     ]
    },
    {
     "data": {
      "text/html": [
       "<pre style=\"white-space:pre;overflow-x:auto;line-height:normal;font-family:Menlo,'DejaVu Sans Mono',consolas,'Courier New',monospace\"><span style=\"color: #7fbfbf; text-decoration-color: #7fbfbf\">[07/10/21 22:43:42] </span><span style=\"color: #008000; text-decoration-color: #008000\">INFO    </span> Animation <span style=\"color: #008000; text-decoration-color: #008000\">16</span> : Partial movie file       <a href=\"file:///Users/artem/opt/anaconda3/lib/python3.8/site-packages/manim/scene/scene_file_writer.py\"><span style=\"color: #7f7f7f; text-decoration-color: #7f7f7f\">scene_file_writer.py</span></a><span style=\"color: #7f7f7f; text-decoration-color: #7f7f7f\">:413</span>\n",
       "                             written in <span style=\"color: #008000; text-decoration-color: #008000\">'/Users/artem/Documents/Pyth</span>                         \n",
       "                             <span style=\"color: #008000; text-decoration-color: #008000\">on/Manim/media/videos/Manim/1080p60/par</span>                         \n",
       "                             <span style=\"color: #008000; text-decoration-color: #008000\">tial_movie_files/senses_</span><span style=\"color: #808000; text-decoration-color: #808000; font-weight: bold\">scene</span><span style=\"color: #008000; text-decoration-color: #008000\">/144006928</span>                         \n",
       "                             <span style=\"color: #008000; text-decoration-color: #008000\">_843486365_1636316516.mp4'</span>                                      \n",
       "</pre>\n"
      ],
      "text/plain": [
       "\u001b[2;36m[07/10/21 22:43:42]\u001b[0m\u001b[2;36m \u001b[0m\u001b[32mINFO    \u001b[0m Animation \u001b[32m16\u001b[0m : Partial movie file       \u001b]8;id=1625931822.2832289-739851;file:///Users/artem/opt/anaconda3/lib/python3.8/site-packages/manim/scene/scene_file_writer.py\u001b\\\u001b[2mscene_file_writer.py\u001b[0m\u001b]8;;\u001b\\\u001b[2m:413\u001b[0m\n",
       "                             written in \u001b[32m'/Users/artem/Documents/Pyth\u001b[0m                         \n",
       "                             \u001b[32mon/Manim/media/videos/Manim/1080p60/par\u001b[0m                         \n",
       "                             \u001b[32mtial_movie_files/senses_\u001b[0m\u001b[1;33mscene\u001b[0m\u001b[32m/144006928\u001b[0m                         \n",
       "                             \u001b[32m_843486365_1636316516.mp4'\u001b[0m                                      \n"
      ]
     },
     "metadata": {},
     "output_type": "display_data"
    },
    {
     "data": {
      "text/html": [
       "<pre style=\"white-space:pre;overflow-x:auto;line-height:normal;font-family:Menlo,'DejaVu Sans Mono',consolas,'Courier New',monospace\"><span style=\"color: #7fbfbf; text-decoration-color: #7fbfbf\">[07/10/21 22:43:44] </span><span style=\"color: #008000; text-decoration-color: #008000\">INFO    </span> Animation <span style=\"color: #008000; text-decoration-color: #008000\">17</span> : Partial movie file       <a href=\"file:///Users/artem/opt/anaconda3/lib/python3.8/site-packages/manim/scene/scene_file_writer.py\"><span style=\"color: #7f7f7f; text-decoration-color: #7f7f7f\">scene_file_writer.py</span></a><span style=\"color: #7f7f7f; text-decoration-color: #7f7f7f\">:413</span>\n",
       "                             written in <span style=\"color: #008000; text-decoration-color: #008000\">'/Users/artem/Documents/Pyth</span>                         \n",
       "                             <span style=\"color: #008000; text-decoration-color: #008000\">on/Manim/media/videos/Manim/1080p60/par</span>                         \n",
       "                             <span style=\"color: #008000; text-decoration-color: #008000\">tial_movie_files/senses_</span><span style=\"color: #808000; text-decoration-color: #808000; font-weight: bold\">scene</span><span style=\"color: #008000; text-decoration-color: #008000\">/144006928</span>                         \n",
       "                             <span style=\"color: #008000; text-decoration-color: #008000\">_3592932924_203892103.mp4'</span>                                      \n",
       "</pre>\n"
      ],
      "text/plain": [
       "\u001b[2;36m[07/10/21 22:43:44]\u001b[0m\u001b[2;36m \u001b[0m\u001b[32mINFO    \u001b[0m Animation \u001b[32m17\u001b[0m : Partial movie file       \u001b]8;id=1625931824.463614-686157;file:///Users/artem/opt/anaconda3/lib/python3.8/site-packages/manim/scene/scene_file_writer.py\u001b\\\u001b[2mscene_file_writer.py\u001b[0m\u001b]8;;\u001b\\\u001b[2m:413\u001b[0m\n",
       "                             written in \u001b[32m'/Users/artem/Documents/Pyth\u001b[0m                         \n",
       "                             \u001b[32mon/Manim/media/videos/Manim/1080p60/par\u001b[0m                         \n",
       "                             \u001b[32mtial_movie_files/senses_\u001b[0m\u001b[1;33mscene\u001b[0m\u001b[32m/144006928\u001b[0m                         \n",
       "                             \u001b[32m_3592932924_203892103.mp4'\u001b[0m                                      \n"
      ]
     },
     "metadata": {},
     "output_type": "display_data"
    },
    {
     "data": {
      "text/html": [
       "<pre style=\"white-space:pre;overflow-x:auto;line-height:normal;font-family:Menlo,'DejaVu Sans Mono',consolas,'Courier New',monospace\"><span style=\"color: #7fbfbf; text-decoration-color: #7fbfbf\">                    </span><span style=\"color: #008000; text-decoration-color: #008000\">INFO    </span>                                         <a href=\"file:///Users/artem/opt/anaconda3/lib/python3.8/site-packages/manim/scene/scene_file_writer.py\"><span style=\"color: #7f7f7f; text-decoration-color: #7f7f7f\">scene_file_writer.py</span></a><span style=\"color: #7f7f7f; text-decoration-color: #7f7f7f\">:597</span>\n",
       "                             <span style=\"color: #808000; text-decoration-color: #808000; font-weight: bold\">File</span> ready at <span style=\"color: #008000; text-decoration-color: #008000\">'/Users/artem/Documents/P</span>                         \n",
       "                             <span style=\"color: #008000; text-decoration-color: #008000\">ython/Manim/media/videos/Manim/1080p60/</span>                         \n",
       "                             <span style=\"color: #008000; text-decoration-color: #008000\">senses_</span><span style=\"color: #808000; text-decoration-color: #808000; font-weight: bold\">scene</span><span style=\"color: #008000; text-decoration-color: #008000\">.mp4'</span>                                               \n",
       "                                                                                             \n",
       "</pre>\n"
      ],
      "text/plain": [
       "\u001b[2;36m                   \u001b[0m\u001b[2;36m \u001b[0m\u001b[32mINFO    \u001b[0m                                         \u001b]8;id=1625931824.6536121-883099;file:///Users/artem/opt/anaconda3/lib/python3.8/site-packages/manim/scene/scene_file_writer.py\u001b\\\u001b[2mscene_file_writer.py\u001b[0m\u001b]8;;\u001b\\\u001b[2m:597\u001b[0m\n",
       "                             \u001b[1;33mFile\u001b[0m ready at \u001b[32m'/Users/artem/Documents/P\u001b[0m                         \n",
       "                             \u001b[32mython/Manim/media/videos/Manim/1080p60/\u001b[0m                         \n",
       "                             \u001b[32msenses_\u001b[0m\u001b[1;33mscene\u001b[0m\u001b[32m.mp4'\u001b[0m                                               \n",
       "                                                                                             \n"
      ]
     },
     "metadata": {},
     "output_type": "display_data"
    },
    {
     "data": {
      "text/html": [
       "<pre style=\"white-space:pre;overflow-x:auto;line-height:normal;font-family:Menlo,'DejaVu Sans Mono',consolas,'Courier New',monospace\"><span style=\"color: #7fbfbf; text-decoration-color: #7fbfbf\">                    </span><span style=\"color: #008000; text-decoration-color: #008000\">INFO    </span> The partial movie directory is full <span style=\"font-weight: bold\">(</span>&gt;  <a href=\"file:///Users/artem/opt/anaconda3/lib/python3.8/site-packages/manim/scene/scene_file_writer.py\"><span style=\"color: #7f7f7f; text-decoration-color: #7f7f7f\">scene_file_writer.py</span></a><span style=\"color: #7f7f7f; text-decoration-color: #7f7f7f\">:575</span>\n",
       "                             <span style=\"color: #008000; text-decoration-color: #008000\">100</span> files<span style=\"font-weight: bold\">)</span>. Therefore, manim has                                \n",
       "                             removed <span style=\"color: #008000; text-decoration-color: #008000\">18</span> <span style=\"color: #800080; text-decoration-color: #800080; font-weight: bold\">file</span><span style=\"font-weight: bold\">(</span>s<span style=\"font-weight: bold\">)</span> used by it the                               \n",
       "                             longest ago.You can change this                                 \n",
       "                             behaviour by changing max_files_cached                          \n",
       "                             in config.                                                      \n",
       "</pre>\n"
      ],
      "text/plain": [
       "\u001b[2;36m                   \u001b[0m\u001b[2;36m \u001b[0m\u001b[32mINFO    \u001b[0m The partial movie directory is full \u001b[1m(\u001b[0m>  \u001b]8;id=1625931824.670196-776891;file:///Users/artem/opt/anaconda3/lib/python3.8/site-packages/manim/scene/scene_file_writer.py\u001b\\\u001b[2mscene_file_writer.py\u001b[0m\u001b]8;;\u001b\\\u001b[2m:575\u001b[0m\n",
       "                             \u001b[32m100\u001b[0m files\u001b[1m)\u001b[0m. Therefore, manim has                                \n",
       "                             removed \u001b[32m18\u001b[0m \u001b[1;35mfile\u001b[0m\u001b[1m(\u001b[0ms\u001b[1m)\u001b[0m used by it the                               \n",
       "                             longest ago.You can change this                                 \n",
       "                             behaviour by changing max_files_cached                          \n",
       "                             in config.                                                      \n"
      ]
     },
     "metadata": {},
     "output_type": "display_data"
    },
    {
     "data": {
      "text/html": [
       "<pre style=\"white-space:pre;overflow-x:auto;line-height:normal;font-family:Menlo,'DejaVu Sans Mono',consolas,'Courier New',monospace\"><span style=\"color: #7fbfbf; text-decoration-color: #7fbfbf\">                    </span><span style=\"color: #008000; text-decoration-color: #008000\">INFO    </span> <span style=\"color: #808000; text-decoration-color: #808000; font-weight: bold\">Rendered</span> senses_<span style=\"color: #808000; text-decoration-color: #808000; font-weight: bold\">scene</span>                               <a href=\"file:///Users/artem/opt/anaconda3/lib/python3.8/site-packages/manim/scene/scene.py\"><span style=\"color: #7f7f7f; text-decoration-color: #7f7f7f\">scene.py</span></a><span style=\"color: #7f7f7f; text-decoration-color: #7f7f7f\">:228</span>\n",
       "                             <span style=\"color: #808000; text-decoration-color: #808000; font-weight: bold\">Played</span> <span style=\"color: #008000; text-decoration-color: #008000\">18</span> <span style=\"color: #808000; text-decoration-color: #808000; font-weight: bold\">animations</span>                                            \n",
       "</pre>\n"
      ],
      "text/plain": [
       "\u001b[2;36m                   \u001b[0m\u001b[2;36m \u001b[0m\u001b[32mINFO    \u001b[0m \u001b[1;33mRendered\u001b[0m senses_\u001b[1;33mscene\u001b[0m                               \u001b]8;id=1625931824.6723971-203121;file:///Users/artem/opt/anaconda3/lib/python3.8/site-packages/manim/scene/scene.py\u001b\\\u001b[2mscene.py\u001b[0m\u001b]8;;\u001b\\\u001b[2m:228\u001b[0m\n",
       "                             \u001b[1;33mPlayed\u001b[0m \u001b[32m18\u001b[0m \u001b[1;33manimations\u001b[0m                                            \n"
      ]
     },
     "metadata": {},
     "output_type": "display_data"
    },
    {
     "data": {
      "text/html": [
       "<video src=\"media/jupyter/senses_scene@2021-07-10@22-43-44.mp4\" controls autoplay loop style=\"max-width: 25vw;\"  >\n",
       "      Your browser does not support the <code>video</code> element.\n",
       "    </video>"
      ],
      "text/plain": [
       "<IPython.core.display.Video object>"
      ]
     },
     "metadata": {},
     "output_type": "display_data"
    }
   ],
   "source": [
    "%manim senses_scene"
   ]
  },
  {
   "cell_type": "code",
   "execution_count": 25,
   "id": "911bb525",
   "metadata": {},
   "outputs": [],
   "source": [
    "class image_scale(Scene):\n",
    "    def construct(self):\n",
    "        self.camera.background_color = WHITE\n",
    "        image = ImageMobject(\"images/Attention/Brain with neurons V1.png\")\n",
    "        self.add(image)\n",
    "        \n",
    "        self.play(  image.animate.scale(0.4).to_edge(UP),run_time=3)"
   ]
  },
  {
   "cell_type": "code",
   "execution_count": 26,
   "id": "23d5a3e8",
   "metadata": {},
   "outputs": [
    {
     "name": "stderr",
     "output_type": "stream",
     "text": [
      "                                                                                              \r"
     ]
    },
    {
     "data": {
      "text/html": [
       "<pre style=\"white-space:pre;overflow-x:auto;line-height:normal;font-family:Menlo,'DejaVu Sans Mono',consolas,'Courier New',monospace\"><span style=\"color: #7fbfbf; text-decoration-color: #7fbfbf\">[07/10/21 22:42:09] </span><span style=\"color: #008000; text-decoration-color: #008000\">INFO    </span> Animation <span style=\"color: #008000; text-decoration-color: #008000\">0</span> : Partial movie file        <a href=\"file:///Users/artem/opt/anaconda3/lib/python3.8/site-packages/manim/scene/scene_file_writer.py\"><span style=\"color: #7f7f7f; text-decoration-color: #7f7f7f\">scene_file_writer.py</span></a><span style=\"color: #7f7f7f; text-decoration-color: #7f7f7f\">:413</span>\n",
       "                             written in <span style=\"color: #008000; text-decoration-color: #008000\">'/Users/artem/Documents/Pyth</span>                         \n",
       "                             <span style=\"color: #008000; text-decoration-color: #008000\">on/Manim/media/videos/Manim/1080p60/par</span>                         \n",
       "                             <span style=\"color: #008000; text-decoration-color: #008000\">tial_movie_files/image_scale/3044240666</span>                         \n",
       "                             <span style=\"color: #008000; text-decoration-color: #008000\">_3376799014_2235281764.mp4'</span>                                     \n",
       "</pre>\n"
      ],
      "text/plain": [
       "\u001b[2;36m[07/10/21 22:42:09]\u001b[0m\u001b[2;36m \u001b[0m\u001b[32mINFO    \u001b[0m Animation \u001b[32m0\u001b[0m : Partial movie file        \u001b]8;id=1625931729.65205-846055;file:///Users/artem/opt/anaconda3/lib/python3.8/site-packages/manim/scene/scene_file_writer.py\u001b\\\u001b[2mscene_file_writer.py\u001b[0m\u001b]8;;\u001b\\\u001b[2m:413\u001b[0m\n",
       "                             written in \u001b[32m'/Users/artem/Documents/Pyth\u001b[0m                         \n",
       "                             \u001b[32mon/Manim/media/videos/Manim/1080p60/par\u001b[0m                         \n",
       "                             \u001b[32mtial_movie_files/image_scale/3044240666\u001b[0m                         \n",
       "                             \u001b[32m_3376799014_2235281764.mp4'\u001b[0m                                     \n"
      ]
     },
     "metadata": {},
     "output_type": "display_data"
    },
    {
     "data": {
      "text/html": [
       "<pre style=\"white-space:pre;overflow-x:auto;line-height:normal;font-family:Menlo,'DejaVu Sans Mono',consolas,'Courier New',monospace\"><span style=\"color: #7fbfbf; text-decoration-color: #7fbfbf\">                    </span><span style=\"color: #008000; text-decoration-color: #008000\">INFO    </span>                                         <a href=\"file:///Users/artem/opt/anaconda3/lib/python3.8/site-packages/manim/scene/scene_file_writer.py\"><span style=\"color: #7f7f7f; text-decoration-color: #7f7f7f\">scene_file_writer.py</span></a><span style=\"color: #7f7f7f; text-decoration-color: #7f7f7f\">:597</span>\n",
       "                             <span style=\"color: #808000; text-decoration-color: #808000; font-weight: bold\">File</span> ready at <span style=\"color: #008000; text-decoration-color: #008000\">'/Users/artem/Documents/P</span>                         \n",
       "                             <span style=\"color: #008000; text-decoration-color: #008000\">ython/Manim/media/videos/Manim/1080p60/</span>                         \n",
       "                             <span style=\"color: #008000; text-decoration-color: #008000\">image_scale.mp4'</span>                                                \n",
       "                                                                                             \n",
       "</pre>\n"
      ],
      "text/plain": [
       "\u001b[2;36m                   \u001b[0m\u001b[2;36m \u001b[0m\u001b[32mINFO    \u001b[0m                                         \u001b]8;id=1625931729.76982-728247;file:///Users/artem/opt/anaconda3/lib/python3.8/site-packages/manim/scene/scene_file_writer.py\u001b\\\u001b[2mscene_file_writer.py\u001b[0m\u001b]8;;\u001b\\\u001b[2m:597\u001b[0m\n",
       "                             \u001b[1;33mFile\u001b[0m ready at \u001b[32m'/Users/artem/Documents/P\u001b[0m                         \n",
       "                             \u001b[32mython/Manim/media/videos/Manim/1080p60/\u001b[0m                         \n",
       "                             \u001b[32mimage_scale.mp4'\u001b[0m                                                \n",
       "                                                                                             \n"
      ]
     },
     "metadata": {},
     "output_type": "display_data"
    },
    {
     "data": {
      "text/html": [
       "<pre style=\"white-space:pre;overflow-x:auto;line-height:normal;font-family:Menlo,'DejaVu Sans Mono',consolas,'Courier New',monospace\"><span style=\"color: #7fbfbf; text-decoration-color: #7fbfbf\">                    </span><span style=\"color: #008000; text-decoration-color: #008000\">INFO    </span> <span style=\"color: #808000; text-decoration-color: #808000; font-weight: bold\">Rendered</span> image_scale                                <a href=\"file:///Users/artem/opt/anaconda3/lib/python3.8/site-packages/manim/scene/scene.py\"><span style=\"color: #7f7f7f; text-decoration-color: #7f7f7f\">scene.py</span></a><span style=\"color: #7f7f7f; text-decoration-color: #7f7f7f\">:228</span>\n",
       "                             <span style=\"color: #808000; text-decoration-color: #808000; font-weight: bold\">Played</span> <span style=\"color: #008000; text-decoration-color: #008000\">1</span> <span style=\"color: #808000; text-decoration-color: #808000; font-weight: bold\">animations</span>                                             \n",
       "</pre>\n"
      ],
      "text/plain": [
       "\u001b[2;36m                   \u001b[0m\u001b[2;36m \u001b[0m\u001b[32mINFO    \u001b[0m \u001b[1;33mRendered\u001b[0m image_scale                                \u001b]8;id=1625931729.773134-905118;file:///Users/artem/opt/anaconda3/lib/python3.8/site-packages/manim/scene/scene.py\u001b\\\u001b[2mscene.py\u001b[0m\u001b]8;;\u001b\\\u001b[2m:228\u001b[0m\n",
       "                             \u001b[1;33mPlayed\u001b[0m \u001b[32m1\u001b[0m \u001b[1;33manimations\u001b[0m                                             \n"
      ]
     },
     "metadata": {},
     "output_type": "display_data"
    },
    {
     "data": {
      "text/html": [
       "<video src=\"media/jupyter/image_scale@2021-07-10@22-42-09.mp4\" controls autoplay loop style=\"max-width: 25vw;\"  >\n",
       "      Your browser does not support the <code>video</code> element.\n",
       "    </video>"
      ],
      "text/plain": [
       "<IPython.core.display.Video object>"
      ]
     },
     "metadata": {},
     "output_type": "display_data"
    }
   ],
   "source": [
    "%manim image_scale"
   ]
  },
  {
   "cell_type": "code",
   "execution_count": 100,
   "id": "63d78acd",
   "metadata": {},
   "outputs": [],
   "source": [
    "class Thalamus_text(Scene):\n",
    "    def construct(self):\n",
    "        self.camera.background_color = WHITE\n",
    "        text = Text(\"Thalamus\")\n",
    "        text.set_color(BLACK)\n",
    "        self.play(Write(text),run_time=2)\n",
    "        self.wait()\n"
   ]
  },
  {
   "cell_type": "code",
   "execution_count": 101,
   "id": "9f932700",
   "metadata": {},
   "outputs": [
    {
     "data": {
      "text/html": [
       "<pre style=\"white-space:pre;overflow-x:auto;line-height:normal;font-family:Menlo,'DejaVu Sans Mono',consolas,'Courier New',monospace\"><span style=\"color: #7fbfbf; text-decoration-color: #7fbfbf\">[07/12/21 16:08:51] </span><span style=\"color: #008000; text-decoration-color: #008000\">INFO    </span> Animation <span style=\"color: #008000; text-decoration-color: #008000\">0</span> : Using cached data <span style=\"font-weight: bold\">(</span>hash :    <a href=\"file:///Users/artem/opt/anaconda3/lib/python3.8/site-packages/manim/renderer/cairo_renderer.py\"><span style=\"color: #7f7f7f; text-decoration-color: #7f7f7f\">cairo_renderer.py</span></a><span style=\"color: #7f7f7f; text-decoration-color: #7f7f7f\">:100</span>\n",
       "                             3044240666_1151654986_3673277875<span style=\"font-weight: bold\">)</span>                               \n",
       "</pre>\n"
      ],
      "text/plain": [
       "\u001b[2;36m[07/12/21 16:08:51]\u001b[0m\u001b[2;36m \u001b[0m\u001b[32mINFO    \u001b[0m Animation \u001b[32m0\u001b[0m : Using cached data \u001b[1m(\u001b[0mhash :    \u001b]8;id=1626080931.890104-491049;file:///Users/artem/opt/anaconda3/lib/python3.8/site-packages/manim/renderer/cairo_renderer.py\u001b\\\u001b[2mcairo_renderer.py\u001b[0m\u001b]8;;\u001b\\\u001b[2m:100\u001b[0m\n",
       "                             3044240666_1151654986_3673277875\u001b[1m)\u001b[0m                               \n"
      ]
     },
     "metadata": {},
     "output_type": "display_data"
    },
    {
     "name": "stderr",
     "output_type": "stream",
     "text": [
      "                                                                           \r"
     ]
    },
    {
     "data": {
      "text/html": [
       "<pre style=\"white-space:pre;overflow-x:auto;line-height:normal;font-family:Menlo,'DejaVu Sans Mono',consolas,'Courier New',monospace\"><span style=\"color: #7fbfbf; text-decoration-color: #7fbfbf\">                    </span><span style=\"color: #008000; text-decoration-color: #008000\">INFO    </span> Animation <span style=\"color: #008000; text-decoration-color: #008000\">1</span> : Using cached data <span style=\"font-weight: bold\">(</span>hash :    <a href=\"file:///Users/artem/opt/anaconda3/lib/python3.8/site-packages/manim/renderer/cairo_renderer.py\"><span style=\"color: #7f7f7f; text-decoration-color: #7f7f7f\">cairo_renderer.py</span></a><span style=\"color: #7f7f7f; text-decoration-color: #7f7f7f\">:100</span>\n",
       "                             144006928_1926486247_1942343086<span style=\"font-weight: bold\">)</span>                                \n",
       "</pre>\n"
      ],
      "text/plain": [
       "\u001b[2;36m                   \u001b[0m\u001b[2;36m \u001b[0m\u001b[32mINFO    \u001b[0m Animation \u001b[32m1\u001b[0m : Using cached data \u001b[1m(\u001b[0mhash :    \u001b]8;id=1626080931.965708-663671;file:///Users/artem/opt/anaconda3/lib/python3.8/site-packages/manim/renderer/cairo_renderer.py\u001b\\\u001b[2mcairo_renderer.py\u001b[0m\u001b]8;;\u001b\\\u001b[2m:100\u001b[0m\n",
       "                             144006928_1926486247_1942343086\u001b[1m)\u001b[0m                                \n"
      ]
     },
     "metadata": {},
     "output_type": "display_data"
    },
    {
     "data": {
      "text/html": [
       "<pre style=\"white-space:pre;overflow-x:auto;line-height:normal;font-family:Menlo,'DejaVu Sans Mono',consolas,'Courier New',monospace\"><span style=\"color: #7fbfbf; text-decoration-color: #7fbfbf\">[07/12/21 16:08:52] </span><span style=\"color: #008000; text-decoration-color: #008000\">INFO    </span>                                         <a href=\"file:///Users/artem/opt/anaconda3/lib/python3.8/site-packages/manim/scene/scene_file_writer.py\"><span style=\"color: #7f7f7f; text-decoration-color: #7f7f7f\">scene_file_writer.py</span></a><span style=\"color: #7f7f7f; text-decoration-color: #7f7f7f\">:597</span>\n",
       "                             <span style=\"color: #808000; text-decoration-color: #808000; font-weight: bold\">File</span> ready at <span style=\"color: #008000; text-decoration-color: #008000\">'/Users/artem/Documents/P</span>                         \n",
       "                             <span style=\"color: #008000; text-decoration-color: #008000\">ython/Manim/media/videos/Manim/1080p60/</span>                         \n",
       "                             <span style=\"color: #008000; text-decoration-color: #008000\">Thalamus_text.mp4'</span>                                              \n",
       "                                                                                             \n",
       "</pre>\n"
      ],
      "text/plain": [
       "\u001b[2;36m[07/12/21 16:08:52]\u001b[0m\u001b[2;36m \u001b[0m\u001b[32mINFO    \u001b[0m                                         \u001b]8;id=1626080932.141258-363550;file:///Users/artem/opt/anaconda3/lib/python3.8/site-packages/manim/scene/scene_file_writer.py\u001b\\\u001b[2mscene_file_writer.py\u001b[0m\u001b]8;;\u001b\\\u001b[2m:597\u001b[0m\n",
       "                             \u001b[1;33mFile\u001b[0m ready at \u001b[32m'/Users/artem/Documents/P\u001b[0m                         \n",
       "                             \u001b[32mython/Manim/media/videos/Manim/1080p60/\u001b[0m                         \n",
       "                             \u001b[32mThalamus_text.mp4'\u001b[0m                                              \n",
       "                                                                                             \n"
      ]
     },
     "metadata": {},
     "output_type": "display_data"
    },
    {
     "data": {
      "text/html": [
       "<pre style=\"white-space:pre;overflow-x:auto;line-height:normal;font-family:Menlo,'DejaVu Sans Mono',consolas,'Courier New',monospace\"><span style=\"color: #7fbfbf; text-decoration-color: #7fbfbf\">                    </span><span style=\"color: #008000; text-decoration-color: #008000\">INFO    </span> <span style=\"color: #808000; text-decoration-color: #808000; font-weight: bold\">Rendered</span> Thalamus_text                              <a href=\"file:///Users/artem/opt/anaconda3/lib/python3.8/site-packages/manim/scene/scene.py\"><span style=\"color: #7f7f7f; text-decoration-color: #7f7f7f\">scene.py</span></a><span style=\"color: #7f7f7f; text-decoration-color: #7f7f7f\">:228</span>\n",
       "                             <span style=\"color: #808000; text-decoration-color: #808000; font-weight: bold\">Played</span> <span style=\"color: #008000; text-decoration-color: #008000\">2</span> <span style=\"color: #808000; text-decoration-color: #808000; font-weight: bold\">animations</span>                                             \n",
       "</pre>\n"
      ],
      "text/plain": [
       "\u001b[2;36m                   \u001b[0m\u001b[2;36m \u001b[0m\u001b[32mINFO    \u001b[0m \u001b[1;33mRendered\u001b[0m Thalamus_text                              \u001b]8;id=1626080932.145029-656439;file:///Users/artem/opt/anaconda3/lib/python3.8/site-packages/manim/scene/scene.py\u001b\\\u001b[2mscene.py\u001b[0m\u001b]8;;\u001b\\\u001b[2m:228\u001b[0m\n",
       "                             \u001b[1;33mPlayed\u001b[0m \u001b[32m2\u001b[0m \u001b[1;33manimations\u001b[0m                                             \n"
      ]
     },
     "metadata": {},
     "output_type": "display_data"
    },
    {
     "data": {
      "text/html": [
       "<video src=\"media/jupyter/Thalamus_text@2021-07-12@16-08-52.mp4\" controls autoplay loop style=\"max-width: 25vw;\"  >\n",
       "      Your browser does not support the <code>video</code> element.\n",
       "    </video>"
      ],
      "text/plain": [
       "<IPython.core.display.Video object>"
      ]
     },
     "metadata": {},
     "output_type": "display_data"
    }
   ],
   "source": [
    "%manim Thalamus_text"
   ]
  },
  {
   "cell_type": "code",
   "execution_count": 51,
   "id": "f072dde6",
   "metadata": {},
   "outputs": [],
   "source": [
    "def wavelength_to_rgb(wavelength, gamma=0.8):\n",
    "\n",
    "        '''\n",
    "        This converts a given wavelength of light to an \n",
    "        approximate RGB color value. The wavelength must be given\n",
    "        in nanometers in the range from 380 nm through 750 nm\n",
    "        (789 THz through 400 THz).\n",
    "\n",
    "        Based on code by Dan Bruton\n",
    "        http://www.physics.sfasu.edu/astro/color/spectra.html\n",
    "        '''\n",
    "\n",
    "        wavelength = float(wavelength)\n",
    "        if wavelength >= 380 and wavelength <= 440:\n",
    "            attenuation = 0.3 + 0.7 * (wavelength - 380) / (440 - 380)\n",
    "            R = ((-(wavelength - 440) / (440 - 380)) * attenuation) ** gamma\n",
    "            G = 0.0\n",
    "            B = (1.0 * attenuation) ** gamma\n",
    "        elif wavelength >= 440 and wavelength <= 490:\n",
    "            R = 0.0\n",
    "            G = ((wavelength - 440) / (490 - 440)) ** gamma\n",
    "            B = 1.0\n",
    "        elif wavelength >= 490 and wavelength <= 510:\n",
    "            R = 0.0\n",
    "            G = 1.0\n",
    "            B = (-(wavelength - 510) / (510 - 490)) ** gamma\n",
    "        elif wavelength >= 510 and wavelength <= 580:\n",
    "            R = ((wavelength - 510) / (580 - 510)) ** gamma\n",
    "            G = 1.0\n",
    "            B = 0.0\n",
    "        elif wavelength >= 580 and wavelength <= 645:\n",
    "            R = 1.0\n",
    "            G = (-(wavelength - 645) / (645 - 580)) ** gamma\n",
    "            B = 0.0\n",
    "        elif wavelength >= 645 and wavelength <= 750:\n",
    "            attenuation = 0.3 + 0.7 * (750 - wavelength) / (750 - 645)\n",
    "            R = (1.0 * attenuation) ** gamma\n",
    "            G = 0.0\n",
    "            B = 0.0\n",
    "        else:\n",
    "            R = 0.0\n",
    "            G = 0.0\n",
    "            B = 0.0\n",
    "        R *= 255\n",
    "        G *= 255\n",
    "        B *= 255\n",
    "        return '#%02x%02x%02x' % (int(R), int(G), int(B))\n",
    "    \n",
    "def connect_with_arrow(source_Mobject, target_Mobject,sourceOffset=0.1,targetOffset=-0.5,arrow_color=GREY_D):\n",
    "    arrowVec = target_Mobject.get_center() - source_Mobject.get_center() \n",
    "    startPoint = source_Mobject.get_center() + sourceOffset*arrowVec\n",
    "    targetPoint = target_Mobject.get_center() + targetOffset*arrowVec\n",
    "    return Arrow(startPoint,targetPoint,tip_length=0.2,color=arrow_color)\n",
    "    "
   ]
  },
  {
   "cell_type": "code",
   "execution_count": 144,
   "id": "5df0804c",
   "metadata": {},
   "outputs": [],
   "source": [
    "class Thalamus_scene(Scene):\n",
    "    def animate_thalamus(self):\n",
    "        thalamus = ImageMobject(\"images/Attention/Thalamus.png\")\n",
    "        self.add(thalamus)\n",
    "        self.play(thalamus.animate.scale(0.4).to_edge(0.2*UP),run_time=1)\n",
    "        return thalamus\n",
    "        \n",
    "    def get_sine_wave(self,wavelength=750):\n",
    "        return FunctionGraph(lambda x: np.sin(750/wavelength*x),x_range=[0,13*PI/2*wavelength/750],color=wavelength_to_rgb(wavelength))\n",
    "    \n",
    "    def add_wave_mobjects(self,wavelengths):\n",
    "        wavemobjects = []\n",
    "        for i in range(len(wavelengths)):\n",
    "            wave=self.get_sine_wave(wavelength=wavelengths[i])\n",
    "            wave.scale(0.5).to_edge(UP+LEFT).shift(i*DOWN*0.5+1.5*DOWN)\n",
    "            wavemobjects.append(wave)\n",
    "        return wavemobjects\n",
    "    \n",
    "    def get_filter_coordinates(self,waves):\n",
    "        tangent_vector = waves[-1].get_last_point() - waves[0].get_last_point()\n",
    "        return [\n",
    "            waves[0].get_last_point()+UP - 0.1*tangent_vector,\n",
    "            waves[-1].get_last_point()+UP + 0.1*tangent_vector,\n",
    "            waves[-1].get_last_point()+2*DOWN + 0.1*tangent_vector,\n",
    "            waves[0].get_last_point()+2*DOWN - 0.1*tangent_vector]\n",
    "    \n",
    "    def get_reflected_wave(self,wave):\n",
    "        reflected_wave = wave.copy()\n",
    "        return reflected_wave.rotate(PI,about_edge=reflected_wave.get_last_point()).rotate(PI,axis=np.array([1,0,0])).shift(DOWN).reverse_direction()\n",
    "#         reflected_wave.rotate(PI,axis=np.array([1,0,0]))\n",
    "#         reflected_wave.shift(DOWN)\n",
    "#         reflected_wave.reverse_direction()\n",
    "\n",
    "    def indicate_items(self, icon, arrows):\n",
    "         for i in range(7):\n",
    "            self.play(\n",
    "                 *map(lambda x: Indicate(x,color=GREEN_A), arrows),\n",
    "                Indicate(icon,color=None)\n",
    "                ,run_time=0.5)\n",
    "            \n",
    "        \n",
    "    \n",
    "    def construct(self):\n",
    "        self.camera.background_color = WHITE\n",
    "        thalamus = self.animate_thalamus()\n",
    "        \n",
    "        wavelengths=np.linspace(400,700,8) \n",
    "        waves = self.add_wave_mobjects(wavelengths=wavelengths)\n",
    "        filter_poly=Polygon(*self.get_filter_coordinates(waves),fill_opacity=0.3,color=GREEN_D)\n",
    "        reflected_wave = self.get_reflected_wave(waves[3])\n",
    "        \n",
    "        filter_group = VGroup(*waves,filter_poly,reflected_wave)\n",
    "        filter_group.scale(0.6).next_to(thalamus, 0.5*DOWN)\n",
    "        self.play(Create(filter_poly),run_time=0.5)\n",
    "        self.play(*map(Create,waves),rate_func=linear,run_time=0.7)\n",
    "        self.play(Create(reflected_wave),rate_func=linear,run_time=0.7)\n",
    "        theta = PI/12\n",
    "        R = 4.5\n",
    "        radius = Line(thalamus.get_center(),thalamus.get_center()+[-R*np.cos(theta), -R*np.sin(theta),0])\n",
    "        \n",
    "        self.play(FadeOut(filter_group))\n",
    "        icon_paths = [\"images/Attention/eye.svg\", \"images/Attention/ear.svg\",\"images/Attention/arm.svg\", \"images/Attention/mouth.svg\",\"images/Attention/balance.svg\",\"images/Attention/stomach.svg\"]\n",
    "        iconMobjects = []\n",
    "        arrowMobjects = []\n",
    "        for i in range(len(icon_paths)):\n",
    "            icon = SVGMobject(icon_paths[i])\n",
    "            angle = theta+i*PI/len(icon_paths)\n",
    "            icon.scale(0.5).move_to(thalamus.get_center()+[-R*np.cos(angle), -R*np.sin(angle),0])\n",
    "            \n",
    "            self.play(GrowFromCenter(icon),run_time=0.1)\n",
    "            arrow = connect_with_arrow(icon,thalamus)\n",
    "            self.play(GrowArrow(arrow),run_time=0.1)\n",
    "            iconMobjects.append(icon)\n",
    "            arrowMobjects.append(arrow)\n",
    "    \n",
    "        self.wait(0.3)             \n",
    "        cortex = ImageMobject(\"images/Attention/cortex.png\").scale(0.67)\n",
    "        cortex.next_to(thalamus,2*UP)\n",
    "        self.add(cortex)\n",
    "        senses_group=Group(*arrowMobjects,*iconMobjects,thalamus,cortex)\n",
    "        self.play(senses_group.animate.scale(0.65).to_edge(DOWN))\n",
    "        \n",
    "        \n",
    "        arrow_to_cortex = connect_with_arrow(thalamus, cortex,sourceOffset=0.2,targetOffset=-0.4)\n",
    "        self.play(\n",
    "            GrowArrow(arrow_to_cortex),\n",
    "            Write(Text(\"Thalamus\").to_edge(LEFT).scale(0.75).set_color(BLACK)),\n",
    "            Write(Text(\"Cortex\").to_edge(LEFT+UP).scale(0.75).set_color(BLACK)))\n",
    "\n",
    "\n",
    "\n",
    "        self.wait(0.5)\n",
    "        self.indicate_items(iconMobjects[0], [arrowMobjects[0],arrow_to_cortex])\n",
    "        self.wait(0.5)\n",
    "        self.indicate_items(iconMobjects[2], [arrowMobjects[2],arrow_to_cortex])\n",
    "        \n",
    "        \n",
    "        self.wait()\n",
    "        "
   ]
  },
  {
   "cell_type": "code",
   "execution_count": 145,
   "id": "1f318f26",
   "metadata": {},
   "outputs": [
    {
     "data": {
      "text/html": [
       "<pre style=\"white-space:pre;overflow-x:auto;line-height:normal;font-family:Menlo,'DejaVu Sans Mono',consolas,'Courier New',monospace\"><span style=\"color: #7fbfbf; text-decoration-color: #7fbfbf\">[07/12/21 16:59:47] </span><span style=\"color: #008000; text-decoration-color: #008000\">INFO    </span> Animation <span style=\"color: #008000; text-decoration-color: #008000\">0</span> : Using cached data <span style=\"font-weight: bold\">(</span>hash :    <a href=\"file:///Users/artem/opt/anaconda3/lib/python3.8/site-packages/manim/renderer/cairo_renderer.py\"><span style=\"color: #7f7f7f; text-decoration-color: #7f7f7f\">cairo_renderer.py</span></a><span style=\"color: #7f7f7f; text-decoration-color: #7f7f7f\">:100</span>\n",
       "                             3044240666_3984174664_2307876085<span style=\"font-weight: bold\">)</span>                               \n",
       "</pre>\n"
      ],
      "text/plain": [
       "\u001b[2;36m[07/12/21 16:59:47]\u001b[0m\u001b[2;36m \u001b[0m\u001b[32mINFO    \u001b[0m Animation \u001b[32m0\u001b[0m : Using cached data \u001b[1m(\u001b[0mhash :    \u001b]8;id=1626083987.6611068-353980;file:///Users/artem/opt/anaconda3/lib/python3.8/site-packages/manim/renderer/cairo_renderer.py\u001b\\\u001b[2mcairo_renderer.py\u001b[0m\u001b]8;;\u001b\\\u001b[2m:100\u001b[0m\n",
       "                             3044240666_3984174664_2307876085\u001b[1m)\u001b[0m                               \n"
      ]
     },
     "metadata": {},
     "output_type": "display_data"
    },
    {
     "name": "stderr",
     "output_type": "stream",
     "text": [
      "                                                                                  \r"
     ]
    },
    {
     "data": {
      "text/html": [
       "<pre style=\"white-space:pre;overflow-x:auto;line-height:normal;font-family:Menlo,'DejaVu Sans Mono',consolas,'Courier New',monospace\"><span style=\"color: #7fbfbf; text-decoration-color: #7fbfbf\">[07/12/21 16:59:48] </span><span style=\"color: #008000; text-decoration-color: #008000\">INFO    </span> Animation <span style=\"color: #008000; text-decoration-color: #008000\">1</span> : Using cached data <span style=\"font-weight: bold\">(</span>hash :    <a href=\"file:///Users/artem/opt/anaconda3/lib/python3.8/site-packages/manim/renderer/cairo_renderer.py\"><span style=\"color: #7f7f7f; text-decoration-color: #7f7f7f\">cairo_renderer.py</span></a><span style=\"color: #7f7f7f; text-decoration-color: #7f7f7f\">:100</span>\n",
       "                             144006928_3270249830_3904671231<span style=\"font-weight: bold\">)</span>                                \n",
       "</pre>\n"
      ],
      "text/plain": [
       "\u001b[2;36m[07/12/21 16:59:48]\u001b[0m\u001b[2;36m \u001b[0m\u001b[32mINFO    \u001b[0m Animation \u001b[32m1\u001b[0m : Using cached data \u001b[1m(\u001b[0mhash :    \u001b]8;id=1626083988.990526-299033;file:///Users/artem/opt/anaconda3/lib/python3.8/site-packages/manim/renderer/cairo_renderer.py\u001b\\\u001b[2mcairo_renderer.py\u001b[0m\u001b]8;;\u001b\\\u001b[2m:100\u001b[0m\n",
       "                             144006928_3270249830_3904671231\u001b[1m)\u001b[0m                                \n"
      ]
     },
     "metadata": {},
     "output_type": "display_data"
    },
    {
     "name": "stderr",
     "output_type": "stream",
     "text": [
      "                                                                                         \r"
     ]
    },
    {
     "data": {
      "text/html": [
       "<pre style=\"white-space:pre;overflow-x:auto;line-height:normal;font-family:Menlo,'DejaVu Sans Mono',consolas,'Courier New',monospace\"><span style=\"color: #7fbfbf; text-decoration-color: #7fbfbf\">[07/12/21 16:59:53] </span><span style=\"color: #008000; text-decoration-color: #008000\">INFO    </span> Animation <span style=\"color: #008000; text-decoration-color: #008000\">2</span> : Partial movie file        <a href=\"file:///Users/artem/opt/anaconda3/lib/python3.8/site-packages/manim/scene/scene_file_writer.py\"><span style=\"color: #7f7f7f; text-decoration-color: #7f7f7f\">scene_file_writer.py</span></a><span style=\"color: #7f7f7f; text-decoration-color: #7f7f7f\">:413</span>\n",
       "                             written in <span style=\"color: #008000; text-decoration-color: #008000\">'/Users/artem/Documents/Pyth</span>                         \n",
       "                             <span style=\"color: #008000; text-decoration-color: #008000\">on/Manim/media/videos/Manim/1080p60/par</span>                         \n",
       "                             <span style=\"color: #008000; text-decoration-color: #008000\">tial_movie_files/Thalamus_</span><span style=\"color: #808000; text-decoration-color: #808000; font-weight: bold\">scene</span><span style=\"color: #008000; text-decoration-color: #008000\">/1440069</span>                         \n",
       "                             <span style=\"color: #008000; text-decoration-color: #008000\">28_3661118253_526960575.mp4'</span>                                    \n",
       "</pre>\n"
      ],
      "text/plain": [
       "\u001b[2;36m[07/12/21 16:59:53]\u001b[0m\u001b[2;36m \u001b[0m\u001b[32mINFO    \u001b[0m Animation \u001b[32m2\u001b[0m : Partial movie file        \u001b]8;id=1626083993.811352-694447;file:///Users/artem/opt/anaconda3/lib/python3.8/site-packages/manim/scene/scene_file_writer.py\u001b\\\u001b[2mscene_file_writer.py\u001b[0m\u001b]8;;\u001b\\\u001b[2m:413\u001b[0m\n",
       "                             written in \u001b[32m'/Users/artem/Documents/Pyth\u001b[0m                         \n",
       "                             \u001b[32mon/Manim/media/videos/Manim/1080p60/par\u001b[0m                         \n",
       "                             \u001b[32mtial_movie_files/Thalamus_\u001b[0m\u001b[1;33mscene\u001b[0m\u001b[32m/1440069\u001b[0m                         \n",
       "                             \u001b[32m28_3661118253_526960575.mp4'\u001b[0m                                    \n"
      ]
     },
     "metadata": {},
     "output_type": "display_data"
    },
    {
     "name": "stderr",
     "output_type": "stream",
     "text": [
      "                                                                                   \r"
     ]
    },
    {
     "data": {
      "text/html": [
       "<pre style=\"white-space:pre;overflow-x:auto;line-height:normal;font-family:Menlo,'DejaVu Sans Mono',consolas,'Courier New',monospace\"><span style=\"color: #7fbfbf; text-decoration-color: #7fbfbf\">[07/12/21 16:59:55] </span><span style=\"color: #008000; text-decoration-color: #008000\">INFO    </span> Animation <span style=\"color: #008000; text-decoration-color: #008000\">3</span> : Partial movie file        <a href=\"file:///Users/artem/opt/anaconda3/lib/python3.8/site-packages/manim/scene/scene_file_writer.py\"><span style=\"color: #7f7f7f; text-decoration-color: #7f7f7f\">scene_file_writer.py</span></a><span style=\"color: #7f7f7f; text-decoration-color: #7f7f7f\">:413</span>\n",
       "                             written in <span style=\"color: #008000; text-decoration-color: #008000\">'/Users/artem/Documents/Pyth</span>                         \n",
       "                             <span style=\"color: #008000; text-decoration-color: #008000\">on/Manim/media/videos/Manim/1080p60/par</span>                         \n",
       "                             <span style=\"color: #008000; text-decoration-color: #008000\">tial_movie_files/Thalamus_</span><span style=\"color: #808000; text-decoration-color: #808000; font-weight: bold\">scene</span><span style=\"color: #008000; text-decoration-color: #008000\">/1440069</span>                         \n",
       "                             <span style=\"color: #008000; text-decoration-color: #008000\">28_679374460_4264118998.mp4'</span>                                    \n",
       "</pre>\n"
      ],
      "text/plain": [
       "\u001b[2;36m[07/12/21 16:59:55]\u001b[0m\u001b[2;36m \u001b[0m\u001b[32mINFO    \u001b[0m Animation \u001b[32m3\u001b[0m : Partial movie file        \u001b]8;id=1626083995.273118-588502;file:///Users/artem/opt/anaconda3/lib/python3.8/site-packages/manim/scene/scene_file_writer.py\u001b\\\u001b[2mscene_file_writer.py\u001b[0m\u001b]8;;\u001b\\\u001b[2m:413\u001b[0m\n",
       "                             written in \u001b[32m'/Users/artem/Documents/Pyth\u001b[0m                         \n",
       "                             \u001b[32mon/Manim/media/videos/Manim/1080p60/par\u001b[0m                         \n",
       "                             \u001b[32mtial_movie_files/Thalamus_\u001b[0m\u001b[1;33mscene\u001b[0m\u001b[32m/1440069\u001b[0m                         \n",
       "                             \u001b[32m28_679374460_4264118998.mp4'\u001b[0m                                    \n"
      ]
     },
     "metadata": {},
     "output_type": "display_data"
    },
    {
     "name": "stderr",
     "output_type": "stream",
     "text": [
      "                                                                                               \r"
     ]
    },
    {
     "data": {
      "text/html": [
       "<pre style=\"white-space:pre;overflow-x:auto;line-height:normal;font-family:Menlo,'DejaVu Sans Mono',consolas,'Courier New',monospace\"><span style=\"color: #7fbfbf; text-decoration-color: #7fbfbf\">[07/12/21 17:00:03] </span><span style=\"color: #008000; text-decoration-color: #008000\">INFO    </span> Animation <span style=\"color: #008000; text-decoration-color: #008000\">4</span> : Partial movie file        <a href=\"file:///Users/artem/opt/anaconda3/lib/python3.8/site-packages/manim/scene/scene_file_writer.py\"><span style=\"color: #7f7f7f; text-decoration-color: #7f7f7f\">scene_file_writer.py</span></a><span style=\"color: #7f7f7f; text-decoration-color: #7f7f7f\">:413</span>\n",
       "                             written in <span style=\"color: #008000; text-decoration-color: #008000\">'/Users/artem/Documents/Pyth</span>                         \n",
       "                             <span style=\"color: #008000; text-decoration-color: #008000\">on/Manim/media/videos/Manim/1080p60/par</span>                         \n",
       "                             <span style=\"color: #008000; text-decoration-color: #008000\">tial_movie_files/Thalamus_</span><span style=\"color: #808000; text-decoration-color: #808000; font-weight: bold\">scene</span><span style=\"color: #008000; text-decoration-color: #008000\">/1440069</span>                         \n",
       "                             <span style=\"color: #008000; text-decoration-color: #008000\">28_1741214555_1557554805.mp4'</span>                                   \n",
       "</pre>\n"
      ],
      "text/plain": [
       "\u001b[2;36m[07/12/21 17:00:03]\u001b[0m\u001b[2;36m \u001b[0m\u001b[32mINFO    \u001b[0m Animation \u001b[32m4\u001b[0m : Partial movie file        \u001b]8;id=1626084003.0151901-440784;file:///Users/artem/opt/anaconda3/lib/python3.8/site-packages/manim/scene/scene_file_writer.py\u001b\\\u001b[2mscene_file_writer.py\u001b[0m\u001b]8;;\u001b\\\u001b[2m:413\u001b[0m\n",
       "                             written in \u001b[32m'/Users/artem/Documents/Pyth\u001b[0m                         \n",
       "                             \u001b[32mon/Manim/media/videos/Manim/1080p60/par\u001b[0m                         \n",
       "                             \u001b[32mtial_movie_files/Thalamus_\u001b[0m\u001b[1;33mscene\u001b[0m\u001b[32m/1440069\u001b[0m                         \n",
       "                             \u001b[32m28_1741214555_1557554805.mp4'\u001b[0m                                   \n"
      ]
     },
     "metadata": {},
     "output_type": "display_data"
    },
    {
     "data": {
      "text/html": [
       "<pre style=\"white-space:pre;overflow-x:auto;line-height:normal;font-family:Menlo,'DejaVu Sans Mono',consolas,'Courier New',monospace\"><span style=\"color: #7fbfbf; text-decoration-color: #7fbfbf\">                    </span><span style=\"color: #008000; text-decoration-color: #008000\">INFO    </span> Animation <span style=\"color: #008000; text-decoration-color: #008000\">5</span> : Using cached data <span style=\"font-weight: bold\">(</span>hash :    <a href=\"file:///Users/artem/opt/anaconda3/lib/python3.8/site-packages/manim/renderer/cairo_renderer.py\"><span style=\"color: #7f7f7f; text-decoration-color: #7f7f7f\">cairo_renderer.py</span></a><span style=\"color: #7f7f7f; text-decoration-color: #7f7f7f\">:100</span>\n",
       "                             144006928_2433348204_1959810816<span style=\"font-weight: bold\">)</span>                                \n",
       "</pre>\n"
      ],
      "text/plain": [
       "\u001b[2;36m                   \u001b[0m\u001b[2;36m \u001b[0m\u001b[32mINFO    \u001b[0m Animation \u001b[32m5\u001b[0m : Using cached data \u001b[1m(\u001b[0mhash :    \u001b]8;id=1626084003.043479-593585;file:///Users/artem/opt/anaconda3/lib/python3.8/site-packages/manim/renderer/cairo_renderer.py\u001b\\\u001b[2mcairo_renderer.py\u001b[0m\u001b]8;;\u001b\\\u001b[2m:100\u001b[0m\n",
       "                             144006928_2433348204_1959810816\u001b[1m)\u001b[0m                                \n"
      ]
     },
     "metadata": {},
     "output_type": "display_data"
    },
    {
     "name": "stderr",
     "output_type": "stream",
     "text": [
      "                                                                              \r"
     ]
    },
    {
     "data": {
      "text/html": [
       "<pre style=\"white-space:pre;overflow-x:auto;line-height:normal;font-family:Menlo,'DejaVu Sans Mono',consolas,'Courier New',monospace\"><span style=\"color: #7fbfbf; text-decoration-color: #7fbfbf\">                    </span><span style=\"color: #008000; text-decoration-color: #008000\">INFO    </span> Animation <span style=\"color: #008000; text-decoration-color: #008000\">6</span> : Using cached data <span style=\"font-weight: bold\">(</span>hash :    <a href=\"file:///Users/artem/opt/anaconda3/lib/python3.8/site-packages/manim/renderer/cairo_renderer.py\"><span style=\"color: #7f7f7f; text-decoration-color: #7f7f7f\">cairo_renderer.py</span></a><span style=\"color: #7f7f7f; text-decoration-color: #7f7f7f\">:100</span>\n",
       "                             144006928_2788275459_451286935<span style=\"font-weight: bold\">)</span>                                 \n",
       "</pre>\n"
      ],
      "text/plain": [
       "\u001b[2;36m                   \u001b[0m\u001b[2;36m \u001b[0m\u001b[32mINFO    \u001b[0m Animation \u001b[32m6\u001b[0m : Using cached data \u001b[1m(\u001b[0mhash :    \u001b]8;id=1626084003.138627-780046;file:///Users/artem/opt/anaconda3/lib/python3.8/site-packages/manim/renderer/cairo_renderer.py\u001b\\\u001b[2mcairo_renderer.py\u001b[0m\u001b]8;;\u001b\\\u001b[2m:100\u001b[0m\n",
       "                             144006928_2788275459_451286935\u001b[1m)\u001b[0m                                 \n"
      ]
     },
     "metadata": {},
     "output_type": "display_data"
    },
    {
     "name": "stderr",
     "output_type": "stream",
     "text": [
      "                                                                    \r"
     ]
    },
    {
     "data": {
      "text/html": [
       "<pre style=\"white-space:pre;overflow-x:auto;line-height:normal;font-family:Menlo,'DejaVu Sans Mono',consolas,'Courier New',monospace\"><span style=\"color: #7fbfbf; text-decoration-color: #7fbfbf\">                    </span><span style=\"color: #008000; text-decoration-color: #008000\">INFO    </span> Animation <span style=\"color: #008000; text-decoration-color: #008000\">7</span> : Using cached data <span style=\"font-weight: bold\">(</span>hash :    <a href=\"file:///Users/artem/opt/anaconda3/lib/python3.8/site-packages/manim/renderer/cairo_renderer.py\"><span style=\"color: #7f7f7f; text-decoration-color: #7f7f7f\">cairo_renderer.py</span></a><span style=\"color: #7f7f7f; text-decoration-color: #7f7f7f\">:100</span>\n",
       "                             144006928_2238932813_3843397538<span style=\"font-weight: bold\">)</span>                                \n",
       "</pre>\n"
      ],
      "text/plain": [
       "\u001b[2;36m                   \u001b[0m\u001b[2;36m \u001b[0m\u001b[32mINFO    \u001b[0m Animation \u001b[32m7\u001b[0m : Using cached data \u001b[1m(\u001b[0mhash :    \u001b]8;id=1626084003.236342-392731;file:///Users/artem/opt/anaconda3/lib/python3.8/site-packages/manim/renderer/cairo_renderer.py\u001b\\\u001b[2mcairo_renderer.py\u001b[0m\u001b]8;;\u001b\\\u001b[2m:100\u001b[0m\n",
       "                             144006928_2238932813_3843397538\u001b[1m)\u001b[0m                                \n"
      ]
     },
     "metadata": {},
     "output_type": "display_data"
    },
    {
     "name": "stderr",
     "output_type": "stream",
     "text": [
      "                                                                              \r"
     ]
    },
    {
     "data": {
      "text/html": [
       "<pre style=\"white-space:pre;overflow-x:auto;line-height:normal;font-family:Menlo,'DejaVu Sans Mono',consolas,'Courier New',monospace\"><span style=\"color: #7fbfbf; text-decoration-color: #7fbfbf\">                    </span><span style=\"color: #008000; text-decoration-color: #008000\">INFO    </span> Animation <span style=\"color: #008000; text-decoration-color: #008000\">8</span> : Using cached data <span style=\"font-weight: bold\">(</span>hash :    <a href=\"file:///Users/artem/opt/anaconda3/lib/python3.8/site-packages/manim/renderer/cairo_renderer.py\"><span style=\"color: #7f7f7f; text-decoration-color: #7f7f7f\">cairo_renderer.py</span></a><span style=\"color: #7f7f7f; text-decoration-color: #7f7f7f\">:100</span>\n",
       "                             144006928_2554359519_3256905247<span style=\"font-weight: bold\">)</span>                                \n",
       "</pre>\n"
      ],
      "text/plain": [
       "\u001b[2;36m                   \u001b[0m\u001b[2;36m \u001b[0m\u001b[32mINFO    \u001b[0m Animation \u001b[32m8\u001b[0m : Using cached data \u001b[1m(\u001b[0mhash :    \u001b]8;id=1626084003.334843-700982;file:///Users/artem/opt/anaconda3/lib/python3.8/site-packages/manim/renderer/cairo_renderer.py\u001b\\\u001b[2mcairo_renderer.py\u001b[0m\u001b]8;;\u001b\\\u001b[2m:100\u001b[0m\n",
       "                             144006928_2554359519_3256905247\u001b[1m)\u001b[0m                                \n"
      ]
     },
     "metadata": {},
     "output_type": "display_data"
    },
    {
     "name": "stderr",
     "output_type": "stream",
     "text": [
      "                                                                    \r"
     ]
    },
    {
     "data": {
      "text/html": [
       "<pre style=\"white-space:pre;overflow-x:auto;line-height:normal;font-family:Menlo,'DejaVu Sans Mono',consolas,'Courier New',monospace\"><span style=\"color: #7fbfbf; text-decoration-color: #7fbfbf\">                    </span><span style=\"color: #008000; text-decoration-color: #008000\">INFO    </span> Animation <span style=\"color: #008000; text-decoration-color: #008000\">9</span> : Using cached data <span style=\"font-weight: bold\">(</span>hash :    <a href=\"file:///Users/artem/opt/anaconda3/lib/python3.8/site-packages/manim/renderer/cairo_renderer.py\"><span style=\"color: #7f7f7f; text-decoration-color: #7f7f7f\">cairo_renderer.py</span></a><span style=\"color: #7f7f7f; text-decoration-color: #7f7f7f\">:100</span>\n",
       "                             144006928_3132982994_239118122<span style=\"font-weight: bold\">)</span>                                 \n",
       "</pre>\n"
      ],
      "text/plain": [
       "\u001b[2;36m                   \u001b[0m\u001b[2;36m \u001b[0m\u001b[32mINFO    \u001b[0m Animation \u001b[32m9\u001b[0m : Using cached data \u001b[1m(\u001b[0mhash :    \u001b]8;id=1626084003.454366-242797;file:///Users/artem/opt/anaconda3/lib/python3.8/site-packages/manim/renderer/cairo_renderer.py\u001b\\\u001b[2mcairo_renderer.py\u001b[0m\u001b]8;;\u001b\\\u001b[2m:100\u001b[0m\n",
       "                             144006928_3132982994_239118122\u001b[1m)\u001b[0m                                 \n"
      ]
     },
     "metadata": {},
     "output_type": "display_data"
    },
    {
     "name": "stderr",
     "output_type": "stream",
     "text": [
      "                                                                              \r"
     ]
    },
    {
     "data": {
      "text/html": [
       "<pre style=\"white-space:pre;overflow-x:auto;line-height:normal;font-family:Menlo,'DejaVu Sans Mono',consolas,'Courier New',monospace\"><span style=\"color: #7fbfbf; text-decoration-color: #7fbfbf\">                    </span><span style=\"color: #008000; text-decoration-color: #008000\">INFO    </span> Animation <span style=\"color: #008000; text-decoration-color: #008000\">10</span> : Using cached data <span style=\"font-weight: bold\">(</span>hash :   <a href=\"file:///Users/artem/opt/anaconda3/lib/python3.8/site-packages/manim/renderer/cairo_renderer.py\"><span style=\"color: #7f7f7f; text-decoration-color: #7f7f7f\">cairo_renderer.py</span></a><span style=\"color: #7f7f7f; text-decoration-color: #7f7f7f\">:100</span>\n",
       "                             144006928_1491357240_3949830824<span style=\"font-weight: bold\">)</span>                                \n",
       "</pre>\n"
      ],
      "text/plain": [
       "\u001b[2;36m                   \u001b[0m\u001b[2;36m \u001b[0m\u001b[32mINFO    \u001b[0m Animation \u001b[32m10\u001b[0m : Using cached data \u001b[1m(\u001b[0mhash :   \u001b]8;id=1626084003.570412-423015;file:///Users/artem/opt/anaconda3/lib/python3.8/site-packages/manim/renderer/cairo_renderer.py\u001b\\\u001b[2mcairo_renderer.py\u001b[0m\u001b]8;;\u001b\\\u001b[2m:100\u001b[0m\n",
       "                             144006928_1491357240_3949830824\u001b[1m)\u001b[0m                                \n"
      ]
     },
     "metadata": {},
     "output_type": "display_data"
    },
    {
     "name": "stderr",
     "output_type": "stream",
     "text": [
      "                                                                     \r"
     ]
    },
    {
     "data": {
      "text/html": [
       "<pre style=\"white-space:pre;overflow-x:auto;line-height:normal;font-family:Menlo,'DejaVu Sans Mono',consolas,'Courier New',monospace\"><span style=\"color: #7fbfbf; text-decoration-color: #7fbfbf\">                    </span><span style=\"color: #008000; text-decoration-color: #008000\">INFO    </span> Animation <span style=\"color: #008000; text-decoration-color: #008000\">11</span> : Using cached data <span style=\"font-weight: bold\">(</span>hash :   <a href=\"file:///Users/artem/opt/anaconda3/lib/python3.8/site-packages/manim/renderer/cairo_renderer.py\"><span style=\"color: #7f7f7f; text-decoration-color: #7f7f7f\">cairo_renderer.py</span></a><span style=\"color: #7f7f7f; text-decoration-color: #7f7f7f\">:100</span>\n",
       "                             144006928_2526259713_3060311869<span style=\"font-weight: bold\">)</span>                                \n",
       "</pre>\n"
      ],
      "text/plain": [
       "\u001b[2;36m                   \u001b[0m\u001b[2;36m \u001b[0m\u001b[32mINFO    \u001b[0m Animation \u001b[32m11\u001b[0m : Using cached data \u001b[1m(\u001b[0mhash :   \u001b]8;id=1626084003.727911-427091;file:///Users/artem/opt/anaconda3/lib/python3.8/site-packages/manim/renderer/cairo_renderer.py\u001b\\\u001b[2mcairo_renderer.py\u001b[0m\u001b]8;;\u001b\\\u001b[2m:100\u001b[0m\n",
       "                             144006928_2526259713_3060311869\u001b[1m)\u001b[0m                                \n"
      ]
     },
     "metadata": {},
     "output_type": "display_data"
    },
    {
     "name": "stderr",
     "output_type": "stream",
     "text": [
      "                                                                               \r"
     ]
    },
    {
     "data": {
      "text/html": [
       "<pre style=\"white-space:pre;overflow-x:auto;line-height:normal;font-family:Menlo,'DejaVu Sans Mono',consolas,'Courier New',monospace\"><span style=\"color: #7fbfbf; text-decoration-color: #7fbfbf\">                    </span><span style=\"color: #008000; text-decoration-color: #008000\">INFO    </span> Animation <span style=\"color: #008000; text-decoration-color: #008000\">12</span> : Using cached data <span style=\"font-weight: bold\">(</span>hash :   <a href=\"file:///Users/artem/opt/anaconda3/lib/python3.8/site-packages/manim/renderer/cairo_renderer.py\"><span style=\"color: #7f7f7f; text-decoration-color: #7f7f7f\">cairo_renderer.py</span></a><span style=\"color: #7f7f7f; text-decoration-color: #7f7f7f\">:100</span>\n",
       "                             144006928_1464263686_3886559799<span style=\"font-weight: bold\">)</span>                                \n",
       "</pre>\n"
      ],
      "text/plain": [
       "\u001b[2;36m                   \u001b[0m\u001b[2;36m \u001b[0m\u001b[32mINFO    \u001b[0m Animation \u001b[32m12\u001b[0m : Using cached data \u001b[1m(\u001b[0mhash :   \u001b]8;id=1626084003.870006-762592;file:///Users/artem/opt/anaconda3/lib/python3.8/site-packages/manim/renderer/cairo_renderer.py\u001b\\\u001b[2mcairo_renderer.py\u001b[0m\u001b]8;;\u001b\\\u001b[2m:100\u001b[0m\n",
       "                             144006928_1464263686_3886559799\u001b[1m)\u001b[0m                                \n"
      ]
     },
     "metadata": {},
     "output_type": "display_data"
    },
    {
     "name": "stderr",
     "output_type": "stream",
     "text": [
      "                                                                     \r"
     ]
    },
    {
     "data": {
      "text/html": [
       "<pre style=\"white-space:pre;overflow-x:auto;line-height:normal;font-family:Menlo,'DejaVu Sans Mono',consolas,'Courier New',monospace\"><span style=\"color: #7fbfbf; text-decoration-color: #7fbfbf\">[07/12/21 17:00:04] </span><span style=\"color: #008000; text-decoration-color: #008000\">INFO    </span> Animation <span style=\"color: #008000; text-decoration-color: #008000\">13</span> : Using cached data <span style=\"font-weight: bold\">(</span>hash :   <a href=\"file:///Users/artem/opt/anaconda3/lib/python3.8/site-packages/manim/renderer/cairo_renderer.py\"><span style=\"color: #7f7f7f; text-decoration-color: #7f7f7f\">cairo_renderer.py</span></a><span style=\"color: #7f7f7f; text-decoration-color: #7f7f7f\">:100</span>\n",
       "                             144006928_191958675_2765665770<span style=\"font-weight: bold\">)</span>                                 \n",
       "</pre>\n"
      ],
      "text/plain": [
       "\u001b[2;36m[07/12/21 17:00:04]\u001b[0m\u001b[2;36m \u001b[0m\u001b[32mINFO    \u001b[0m Animation \u001b[32m13\u001b[0m : Using cached data \u001b[1m(\u001b[0mhash :   \u001b]8;id=1626084004.034577-974054;file:///Users/artem/opt/anaconda3/lib/python3.8/site-packages/manim/renderer/cairo_renderer.py\u001b\\\u001b[2mcairo_renderer.py\u001b[0m\u001b]8;;\u001b\\\u001b[2m:100\u001b[0m\n",
       "                             144006928_191958675_2765665770\u001b[1m)\u001b[0m                                 \n"
      ]
     },
     "metadata": {},
     "output_type": "display_data"
    },
    {
     "name": "stderr",
     "output_type": "stream",
     "text": [
      "                                                                               \r"
     ]
    },
    {
     "data": {
      "text/html": [
       "<pre style=\"white-space:pre;overflow-x:auto;line-height:normal;font-family:Menlo,'DejaVu Sans Mono',consolas,'Courier New',monospace\"><span style=\"color: #7fbfbf; text-decoration-color: #7fbfbf\">                    </span><span style=\"color: #008000; text-decoration-color: #008000\">INFO    </span> Animation <span style=\"color: #008000; text-decoration-color: #008000\">14</span> : Using cached data <span style=\"font-weight: bold\">(</span>hash :   <a href=\"file:///Users/artem/opt/anaconda3/lib/python3.8/site-packages/manim/renderer/cairo_renderer.py\"><span style=\"color: #7f7f7f; text-decoration-color: #7f7f7f\">cairo_renderer.py</span></a><span style=\"color: #7f7f7f; text-decoration-color: #7f7f7f\">:100</span>\n",
       "                             144006928_765125008_3397208138<span style=\"font-weight: bold\">)</span>                                 \n",
       "</pre>\n"
      ],
      "text/plain": [
       "\u001b[2;36m                   \u001b[0m\u001b[2;36m \u001b[0m\u001b[32mINFO    \u001b[0m Animation \u001b[32m14\u001b[0m : Using cached data \u001b[1m(\u001b[0mhash :   \u001b]8;id=1626084004.2023659-130963;file:///Users/artem/opt/anaconda3/lib/python3.8/site-packages/manim/renderer/cairo_renderer.py\u001b\\\u001b[2mcairo_renderer.py\u001b[0m\u001b]8;;\u001b\\\u001b[2m:100\u001b[0m\n",
       "                             144006928_765125008_3397208138\u001b[1m)\u001b[0m                                 \n"
      ]
     },
     "metadata": {},
     "output_type": "display_data"
    },
    {
     "name": "stderr",
     "output_type": "stream",
     "text": [
      "                                                                     \r"
     ]
    },
    {
     "data": {
      "text/html": [
       "<pre style=\"white-space:pre;overflow-x:auto;line-height:normal;font-family:Menlo,'DejaVu Sans Mono',consolas,'Courier New',monospace\"><span style=\"color: #7fbfbf; text-decoration-color: #7fbfbf\">                    </span><span style=\"color: #008000; text-decoration-color: #008000\">INFO    </span> Animation <span style=\"color: #008000; text-decoration-color: #008000\">15</span> : Using cached data <span style=\"font-weight: bold\">(</span>hash :   <a href=\"file:///Users/artem/opt/anaconda3/lib/python3.8/site-packages/manim/renderer/cairo_renderer.py\"><span style=\"color: #7f7f7f; text-decoration-color: #7f7f7f\">cairo_renderer.py</span></a><span style=\"color: #7f7f7f; text-decoration-color: #7f7f7f\">:100</span>\n",
       "                             144006928_583337049_1533339514<span style=\"font-weight: bold\">)</span>                                 \n",
       "</pre>\n"
      ],
      "text/plain": [
       "\u001b[2;36m                   \u001b[0m\u001b[2;36m \u001b[0m\u001b[32mINFO    \u001b[0m Animation \u001b[32m15\u001b[0m : Using cached data \u001b[1m(\u001b[0mhash :   \u001b]8;id=1626084004.403069-414003;file:///Users/artem/opt/anaconda3/lib/python3.8/site-packages/manim/renderer/cairo_renderer.py\u001b\\\u001b[2mcairo_renderer.py\u001b[0m\u001b]8;;\u001b\\\u001b[2m:100\u001b[0m\n",
       "                             144006928_583337049_1533339514\u001b[1m)\u001b[0m                                 \n"
      ]
     },
     "metadata": {},
     "output_type": "display_data"
    },
    {
     "name": "stderr",
     "output_type": "stream",
     "text": [
      "                                                                               \r"
     ]
    },
    {
     "data": {
      "text/html": [
       "<pre style=\"white-space:pre;overflow-x:auto;line-height:normal;font-family:Menlo,'DejaVu Sans Mono',consolas,'Courier New',monospace\"><span style=\"color: #7fbfbf; text-decoration-color: #7fbfbf\">                    </span><span style=\"color: #008000; text-decoration-color: #008000\">INFO    </span> Animation <span style=\"color: #008000; text-decoration-color: #008000\">16</span> : Using cached data <span style=\"font-weight: bold\">(</span>hash :   <a href=\"file:///Users/artem/opt/anaconda3/lib/python3.8/site-packages/manim/renderer/cairo_renderer.py\"><span style=\"color: #7f7f7f; text-decoration-color: #7f7f7f\">cairo_renderer.py</span></a><span style=\"color: #7f7f7f; text-decoration-color: #7f7f7f\">:100</span>\n",
       "                             144006928_942429669_4087973954<span style=\"font-weight: bold\">)</span>                                 \n",
       "</pre>\n"
      ],
      "text/plain": [
       "\u001b[2;36m                   \u001b[0m\u001b[2;36m \u001b[0m\u001b[32mINFO    \u001b[0m Animation \u001b[32m16\u001b[0m : Using cached data \u001b[1m(\u001b[0mhash :   \u001b]8;id=1626084004.598561-337250;file:///Users/artem/opt/anaconda3/lib/python3.8/site-packages/manim/renderer/cairo_renderer.py\u001b\\\u001b[2mcairo_renderer.py\u001b[0m\u001b]8;;\u001b\\\u001b[2m:100\u001b[0m\n",
       "                             144006928_942429669_4087973954\u001b[1m)\u001b[0m                                 \n"
      ]
     },
     "metadata": {},
     "output_type": "display_data"
    },
    {
     "name": "stderr",
     "output_type": "stream",
     "text": [
      "                                                                     \r"
     ]
    },
    {
     "data": {
      "text/html": [
       "<pre style=\"white-space:pre;overflow-x:auto;line-height:normal;font-family:Menlo,'DejaVu Sans Mono',consolas,'Courier New',monospace\"><span style=\"color: #7fbfbf; text-decoration-color: #7fbfbf\">[07/12/21 17:00:05] </span><span style=\"color: #008000; text-decoration-color: #008000\">INFO    </span> Animation <span style=\"color: #008000; text-decoration-color: #008000\">17</span> : Partial movie file       <a href=\"file:///Users/artem/opt/anaconda3/lib/python3.8/site-packages/manim/scene/scene_file_writer.py\"><span style=\"color: #7f7f7f; text-decoration-color: #7f7f7f\">scene_file_writer.py</span></a><span style=\"color: #7f7f7f; text-decoration-color: #7f7f7f\">:413</span>\n",
       "                             written in <span style=\"color: #008000; text-decoration-color: #008000\">'/Users/artem/Documents/Pyth</span>                         \n",
       "                             <span style=\"color: #008000; text-decoration-color: #008000\">on/Manim/media/videos/Manim/1080p60/par</span>                         \n",
       "                             <span style=\"color: #008000; text-decoration-color: #008000\">tial_movie_files/Thalamus_</span><span style=\"color: #808000; text-decoration-color: #808000; font-weight: bold\">scene</span><span style=\"color: #008000; text-decoration-color: #008000\">/1440069</span>                         \n",
       "                             <span style=\"color: #008000; text-decoration-color: #008000\">28_2165462953_2558393818.mp4'</span>                                   \n",
       "</pre>\n"
      ],
      "text/plain": [
       "\u001b[2;36m[07/12/21 17:00:05]\u001b[0m\u001b[2;36m \u001b[0m\u001b[32mINFO    \u001b[0m Animation \u001b[32m17\u001b[0m : Partial movie file       \u001b]8;id=1626084005.259788-203603;file:///Users/artem/opt/anaconda3/lib/python3.8/site-packages/manim/scene/scene_file_writer.py\u001b\\\u001b[2mscene_file_writer.py\u001b[0m\u001b]8;;\u001b\\\u001b[2m:413\u001b[0m\n",
       "                             written in \u001b[32m'/Users/artem/Documents/Pyth\u001b[0m                         \n",
       "                             \u001b[32mon/Manim/media/videos/Manim/1080p60/par\u001b[0m                         \n",
       "                             \u001b[32mtial_movie_files/Thalamus_\u001b[0m\u001b[1;33mscene\u001b[0m\u001b[32m/1440069\u001b[0m                         \n",
       "                             \u001b[32m28_2165462953_2558393818.mp4'\u001b[0m                                   \n"
      ]
     },
     "metadata": {},
     "output_type": "display_data"
    },
    {
     "data": {
      "text/html": [
       "<pre style=\"white-space:pre;overflow-x:auto;line-height:normal;font-family:Menlo,'DejaVu Sans Mono',consolas,'Courier New',monospace\"><span style=\"color: #7fbfbf; text-decoration-color: #7fbfbf\">                    </span><span style=\"color: #008000; text-decoration-color: #008000\">INFO    </span> Animation <span style=\"color: #008000; text-decoration-color: #008000\">18</span> : Using cached data <span style=\"font-weight: bold\">(</span>hash :   <a href=\"file:///Users/artem/opt/anaconda3/lib/python3.8/site-packages/manim/renderer/cairo_renderer.py\"><span style=\"color: #7f7f7f; text-decoration-color: #7f7f7f\">cairo_renderer.py</span></a><span style=\"color: #7f7f7f; text-decoration-color: #7f7f7f\">:100</span>\n",
       "                             144006928_3591252922_2420369673<span style=\"font-weight: bold\">)</span>                                \n",
       "</pre>\n"
      ],
      "text/plain": [
       "\u001b[2;36m                   \u001b[0m\u001b[2;36m \u001b[0m\u001b[32mINFO    \u001b[0m Animation \u001b[32m18\u001b[0m : Using cached data \u001b[1m(\u001b[0mhash :   \u001b]8;id=1626084005.539962-498017;file:///Users/artem/opt/anaconda3/lib/python3.8/site-packages/manim/renderer/cairo_renderer.py\u001b\\\u001b[2mcairo_renderer.py\u001b[0m\u001b]8;;\u001b\\\u001b[2m:100\u001b[0m\n",
       "                             144006928_3591252922_2420369673\u001b[1m)\u001b[0m                                \n"
      ]
     },
     "metadata": {},
     "output_type": "display_data"
    },
    {
     "name": "stderr",
     "output_type": "stream",
     "text": [
      "                                                                                     \r"
     ]
    },
    {
     "data": {
      "text/html": [
       "<pre style=\"white-space:pre;overflow-x:auto;line-height:normal;font-family:Menlo,'DejaVu Sans Mono',consolas,'Courier New',monospace\"><span style=\"color: #7fbfbf; text-decoration-color: #7fbfbf\">[07/12/21 17:00:07] </span><span style=\"color: #008000; text-decoration-color: #008000\">INFO    </span> Animation <span style=\"color: #008000; text-decoration-color: #008000\">19</span> : Partial movie file       <a href=\"file:///Users/artem/opt/anaconda3/lib/python3.8/site-packages/manim/scene/scene_file_writer.py\"><span style=\"color: #7f7f7f; text-decoration-color: #7f7f7f\">scene_file_writer.py</span></a><span style=\"color: #7f7f7f; text-decoration-color: #7f7f7f\">:413</span>\n",
       "                             written in <span style=\"color: #008000; text-decoration-color: #008000\">'/Users/artem/Documents/Pyth</span>                         \n",
       "                             <span style=\"color: #008000; text-decoration-color: #008000\">on/Manim/media/videos/Manim/1080p60/par</span>                         \n",
       "                             <span style=\"color: #008000; text-decoration-color: #008000\">tial_movie_files/Thalamus_</span><span style=\"color: #808000; text-decoration-color: #808000; font-weight: bold\">scene</span><span style=\"color: #008000; text-decoration-color: #008000\">/1440069</span>                         \n",
       "                             <span style=\"color: #008000; text-decoration-color: #008000\">28_411923857_2574535192.mp4'</span>                                    \n",
       "</pre>\n"
      ],
      "text/plain": [
       "\u001b[2;36m[07/12/21 17:00:07]\u001b[0m\u001b[2;36m \u001b[0m\u001b[32mINFO    \u001b[0m Animation \u001b[32m19\u001b[0m : Partial movie file       \u001b]8;id=1626084007.795433-451329;file:///Users/artem/opt/anaconda3/lib/python3.8/site-packages/manim/scene/scene_file_writer.py\u001b\\\u001b[2mscene_file_writer.py\u001b[0m\u001b]8;;\u001b\\\u001b[2m:413\u001b[0m\n",
       "                             written in \u001b[32m'/Users/artem/Documents/Pyth\u001b[0m                         \n",
       "                             \u001b[32mon/Manim/media/videos/Manim/1080p60/par\u001b[0m                         \n",
       "                             \u001b[32mtial_movie_files/Thalamus_\u001b[0m\u001b[1;33mscene\u001b[0m\u001b[32m/1440069\u001b[0m                         \n",
       "                             \u001b[32m28_411923857_2574535192.mp4'\u001b[0m                                    \n"
      ]
     },
     "metadata": {},
     "output_type": "display_data"
    },
    {
     "data": {
      "text/html": [
       "<pre style=\"white-space:pre;overflow-x:auto;line-height:normal;font-family:Menlo,'DejaVu Sans Mono',consolas,'Courier New',monospace\"><span style=\"color: #7fbfbf; text-decoration-color: #7fbfbf\">[07/12/21 17:00:08] </span><span style=\"color: #008000; text-decoration-color: #008000\">INFO    </span> Animation <span style=\"color: #008000; text-decoration-color: #008000\">20</span> : Partial movie file       <a href=\"file:///Users/artem/opt/anaconda3/lib/python3.8/site-packages/manim/scene/scene_file_writer.py\"><span style=\"color: #7f7f7f; text-decoration-color: #7f7f7f\">scene_file_writer.py</span></a><span style=\"color: #7f7f7f; text-decoration-color: #7f7f7f\">:413</span>\n",
       "                             written in <span style=\"color: #008000; text-decoration-color: #008000\">'/Users/artem/Documents/Pyth</span>                         \n",
       "                             <span style=\"color: #008000; text-decoration-color: #008000\">on/Manim/media/videos/Manim/1080p60/par</span>                         \n",
       "                             <span style=\"color: #008000; text-decoration-color: #008000\">tial_movie_files/Thalamus_</span><span style=\"color: #808000; text-decoration-color: #808000; font-weight: bold\">scene</span><span style=\"color: #008000; text-decoration-color: #008000\">/1440069</span>                         \n",
       "                             <span style=\"color: #008000; text-decoration-color: #008000\">28_1436967627_1453867223.mp4'</span>                                   \n",
       "</pre>\n"
      ],
      "text/plain": [
       "\u001b[2;36m[07/12/21 17:00:08]\u001b[0m\u001b[2;36m \u001b[0m\u001b[32mINFO    \u001b[0m Animation \u001b[32m20\u001b[0m : Partial movie file       \u001b]8;id=1626084008.820405-865147;file:///Users/artem/opt/anaconda3/lib/python3.8/site-packages/manim/scene/scene_file_writer.py\u001b\\\u001b[2mscene_file_writer.py\u001b[0m\u001b]8;;\u001b\\\u001b[2m:413\u001b[0m\n",
       "                             written in \u001b[32m'/Users/artem/Documents/Pyth\u001b[0m                         \n",
       "                             \u001b[32mon/Manim/media/videos/Manim/1080p60/par\u001b[0m                         \n",
       "                             \u001b[32mtial_movie_files/Thalamus_\u001b[0m\u001b[1;33mscene\u001b[0m\u001b[32m/1440069\u001b[0m                         \n",
       "                             \u001b[32m28_1436967627_1453867223.mp4'\u001b[0m                                   \n"
      ]
     },
     "metadata": {},
     "output_type": "display_data"
    },
    {
     "name": "stderr",
     "output_type": "stream",
     "text": [
      "                                                                                    \r"
     ]
    },
    {
     "data": {
      "text/html": [
       "<pre style=\"white-space:pre;overflow-x:auto;line-height:normal;font-family:Menlo,'DejaVu Sans Mono',consolas,'Courier New',monospace\"><span style=\"color: #7fbfbf; text-decoration-color: #7fbfbf\">[07/12/21 17:00:13] </span><span style=\"color: #008000; text-decoration-color: #008000\">INFO    </span> Animation <span style=\"color: #008000; text-decoration-color: #008000\">21</span> : Partial movie file       <a href=\"file:///Users/artem/opt/anaconda3/lib/python3.8/site-packages/manim/scene/scene_file_writer.py\"><span style=\"color: #7f7f7f; text-decoration-color: #7f7f7f\">scene_file_writer.py</span></a><span style=\"color: #7f7f7f; text-decoration-color: #7f7f7f\">:413</span>\n",
       "                             written in <span style=\"color: #008000; text-decoration-color: #008000\">'/Users/artem/Documents/Pyth</span>                         \n",
       "                             <span style=\"color: #008000; text-decoration-color: #008000\">on/Manim/media/videos/Manim/1080p60/par</span>                         \n",
       "                             <span style=\"color: #008000; text-decoration-color: #008000\">tial_movie_files/Thalamus_</span><span style=\"color: #808000; text-decoration-color: #808000; font-weight: bold\">scene</span><span style=\"color: #008000; text-decoration-color: #008000\">/1440069</span>                         \n",
       "                             <span style=\"color: #008000; text-decoration-color: #008000\">28_1842299747_560207857.mp4'</span>                                    \n",
       "</pre>\n"
      ],
      "text/plain": [
       "\u001b[2;36m[07/12/21 17:00:13]\u001b[0m\u001b[2;36m \u001b[0m\u001b[32mINFO    \u001b[0m Animation \u001b[32m21\u001b[0m : Partial movie file       \u001b]8;id=1626084013.169197-563286;file:///Users/artem/opt/anaconda3/lib/python3.8/site-packages/manim/scene/scene_file_writer.py\u001b\\\u001b[2mscene_file_writer.py\u001b[0m\u001b]8;;\u001b\\\u001b[2m:413\u001b[0m\n",
       "                             written in \u001b[32m'/Users/artem/Documents/Pyth\u001b[0m                         \n",
       "                             \u001b[32mon/Manim/media/videos/Manim/1080p60/par\u001b[0m                         \n",
       "                             \u001b[32mtial_movie_files/Thalamus_\u001b[0m\u001b[1;33mscene\u001b[0m\u001b[32m/1440069\u001b[0m                         \n",
       "                             \u001b[32m28_1842299747_560207857.mp4'\u001b[0m                                    \n"
      ]
     },
     "metadata": {},
     "output_type": "display_data"
    },
    {
     "name": "stderr",
     "output_type": "stream",
     "text": [
      "                                                                                    \r"
     ]
    },
    {
     "data": {
      "text/html": [
       "<pre style=\"white-space:pre;overflow-x:auto;line-height:normal;font-family:Menlo,'DejaVu Sans Mono',consolas,'Courier New',monospace\"><span style=\"color: #7fbfbf; text-decoration-color: #7fbfbf\">[07/12/21 17:00:17] </span><span style=\"color: #008000; text-decoration-color: #008000\">INFO    </span> Animation <span style=\"color: #008000; text-decoration-color: #008000\">22</span> : Partial movie file       <a href=\"file:///Users/artem/opt/anaconda3/lib/python3.8/site-packages/manim/scene/scene_file_writer.py\"><span style=\"color: #7f7f7f; text-decoration-color: #7f7f7f\">scene_file_writer.py</span></a><span style=\"color: #7f7f7f; text-decoration-color: #7f7f7f\">:413</span>\n",
       "                             written in <span style=\"color: #008000; text-decoration-color: #008000\">'/Users/artem/Documents/Pyth</span>                         \n",
       "                             <span style=\"color: #008000; text-decoration-color: #008000\">on/Manim/media/videos/Manim/1080p60/par</span>                         \n",
       "                             <span style=\"color: #008000; text-decoration-color: #008000\">tial_movie_files/Thalamus_</span><span style=\"color: #808000; text-decoration-color: #808000; font-weight: bold\">scene</span><span style=\"color: #008000; text-decoration-color: #008000\">/1440069</span>                         \n",
       "                             <span style=\"color: #008000; text-decoration-color: #008000\">28_581519400_461871396.mp4'</span>                                     \n",
       "</pre>\n"
      ],
      "text/plain": [
       "\u001b[2;36m[07/12/21 17:00:17]\u001b[0m\u001b[2;36m \u001b[0m\u001b[32mINFO    \u001b[0m Animation \u001b[32m22\u001b[0m : Partial movie file       \u001b]8;id=1626084017.524697-93107;file:///Users/artem/opt/anaconda3/lib/python3.8/site-packages/manim/scene/scene_file_writer.py\u001b\\\u001b[2mscene_file_writer.py\u001b[0m\u001b]8;;\u001b\\\u001b[2m:413\u001b[0m\n",
       "                             written in \u001b[32m'/Users/artem/Documents/Pyth\u001b[0m                         \n",
       "                             \u001b[32mon/Manim/media/videos/Manim/1080p60/par\u001b[0m                         \n",
       "                             \u001b[32mtial_movie_files/Thalamus_\u001b[0m\u001b[1;33mscene\u001b[0m\u001b[32m/1440069\u001b[0m                         \n",
       "                             \u001b[32m28_581519400_461871396.mp4'\u001b[0m                                     \n"
      ]
     },
     "metadata": {},
     "output_type": "display_data"
    },
    {
     "data": {
      "text/html": [
       "<pre style=\"white-space:pre;overflow-x:auto;line-height:normal;font-family:Menlo,'DejaVu Sans Mono',consolas,'Courier New',monospace\"><span style=\"color: #7fbfbf; text-decoration-color: #7fbfbf\">                    </span><span style=\"color: #008000; text-decoration-color: #008000\">INFO    </span> Animation <span style=\"color: #008000; text-decoration-color: #008000\">23</span> : Using cached data <span style=\"font-weight: bold\">(</span>hash :   <a href=\"file:///Users/artem/opt/anaconda3/lib/python3.8/site-packages/manim/renderer/cairo_renderer.py\"><span style=\"color: #7f7f7f; text-decoration-color: #7f7f7f\">cairo_renderer.py</span></a><span style=\"color: #7f7f7f; text-decoration-color: #7f7f7f\">:100</span>\n",
       "                             144006928_581519400_461871396<span style=\"font-weight: bold\">)</span>                                  \n",
       "</pre>\n"
      ],
      "text/plain": [
       "\u001b[2;36m                   \u001b[0m\u001b[2;36m \u001b[0m\u001b[32mINFO    \u001b[0m Animation \u001b[32m23\u001b[0m : Using cached data \u001b[1m(\u001b[0mhash :   \u001b]8;id=1626084017.802573-81938;file:///Users/artem/opt/anaconda3/lib/python3.8/site-packages/manim/renderer/cairo_renderer.py\u001b\\\u001b[2mcairo_renderer.py\u001b[0m\u001b]8;;\u001b\\\u001b[2m:100\u001b[0m\n",
       "                             144006928_581519400_461871396\u001b[1m)\u001b[0m                                  \n"
      ]
     },
     "metadata": {},
     "output_type": "display_data"
    },
    {
     "name": "stderr",
     "output_type": "stream",
     "text": [
      "                                                                                  \r"
     ]
    },
    {
     "data": {
      "text/html": [
       "<pre style=\"white-space:pre;overflow-x:auto;line-height:normal;font-family:Menlo,'DejaVu Sans Mono',consolas,'Courier New',monospace\"><span style=\"color: #7fbfbf; text-decoration-color: #7fbfbf\">[07/12/21 17:00:18] </span><span style=\"color: #008000; text-decoration-color: #008000\">INFO    </span> Animation <span style=\"color: #008000; text-decoration-color: #008000\">24</span> : Using cached data <span style=\"font-weight: bold\">(</span>hash :   <a href=\"file:///Users/artem/opt/anaconda3/lib/python3.8/site-packages/manim/renderer/cairo_renderer.py\"><span style=\"color: #7f7f7f; text-decoration-color: #7f7f7f\">cairo_renderer.py</span></a><span style=\"color: #7f7f7f; text-decoration-color: #7f7f7f\">:100</span>\n",
       "                             144006928_581519400_461871396<span style=\"font-weight: bold\">)</span>                                  \n",
       "</pre>\n"
      ],
      "text/plain": [
       "\u001b[2;36m[07/12/21 17:00:18]\u001b[0m\u001b[2;36m \u001b[0m\u001b[32mINFO    \u001b[0m Animation \u001b[32m24\u001b[0m : Using cached data \u001b[1m(\u001b[0mhash :   \u001b]8;id=1626084018.2338681-449329;file:///Users/artem/opt/anaconda3/lib/python3.8/site-packages/manim/renderer/cairo_renderer.py\u001b\\\u001b[2mcairo_renderer.py\u001b[0m\u001b]8;;\u001b\\\u001b[2m:100\u001b[0m\n",
       "                             144006928_581519400_461871396\u001b[1m)\u001b[0m                                  \n"
      ]
     },
     "metadata": {},
     "output_type": "display_data"
    },
    {
     "name": "stderr",
     "output_type": "stream",
     "text": [
      "                                                                                  \r"
     ]
    },
    {
     "data": {
      "text/html": [
       "<pre style=\"white-space:pre;overflow-x:auto;line-height:normal;font-family:Menlo,'DejaVu Sans Mono',consolas,'Courier New',monospace\"><span style=\"color: #7fbfbf; text-decoration-color: #7fbfbf\">                    </span><span style=\"color: #008000; text-decoration-color: #008000\">INFO    </span> Animation <span style=\"color: #008000; text-decoration-color: #008000\">25</span> : Using cached data <span style=\"font-weight: bold\">(</span>hash :   <a href=\"file:///Users/artem/opt/anaconda3/lib/python3.8/site-packages/manim/renderer/cairo_renderer.py\"><span style=\"color: #7f7f7f; text-decoration-color: #7f7f7f\">cairo_renderer.py</span></a><span style=\"color: #7f7f7f; text-decoration-color: #7f7f7f\">:100</span>\n",
       "                             144006928_581519400_461871396<span style=\"font-weight: bold\">)</span>                                  \n",
       "</pre>\n"
      ],
      "text/plain": [
       "\u001b[2;36m                   \u001b[0m\u001b[2;36m \u001b[0m\u001b[32mINFO    \u001b[0m Animation \u001b[32m25\u001b[0m : Using cached data \u001b[1m(\u001b[0mhash :   \u001b]8;id=1626084018.658853-544934;file:///Users/artem/opt/anaconda3/lib/python3.8/site-packages/manim/renderer/cairo_renderer.py\u001b\\\u001b[2mcairo_renderer.py\u001b[0m\u001b]8;;\u001b\\\u001b[2m:100\u001b[0m\n",
       "                             144006928_581519400_461871396\u001b[1m)\u001b[0m                                  \n"
      ]
     },
     "metadata": {},
     "output_type": "display_data"
    },
    {
     "name": "stderr",
     "output_type": "stream",
     "text": [
      "                                                                                  \r"
     ]
    },
    {
     "data": {
      "text/html": [
       "<pre style=\"white-space:pre;overflow-x:auto;line-height:normal;font-family:Menlo,'DejaVu Sans Mono',consolas,'Courier New',monospace\"><span style=\"color: #7fbfbf; text-decoration-color: #7fbfbf\">[07/12/21 17:00:19] </span><span style=\"color: #008000; text-decoration-color: #008000\">INFO    </span> Animation <span style=\"color: #008000; text-decoration-color: #008000\">26</span> : Using cached data <span style=\"font-weight: bold\">(</span>hash :   <a href=\"file:///Users/artem/opt/anaconda3/lib/python3.8/site-packages/manim/renderer/cairo_renderer.py\"><span style=\"color: #7f7f7f; text-decoration-color: #7f7f7f\">cairo_renderer.py</span></a><span style=\"color: #7f7f7f; text-decoration-color: #7f7f7f\">:100</span>\n",
       "                             144006928_581519400_461871396<span style=\"font-weight: bold\">)</span>                                  \n",
       "</pre>\n"
      ],
      "text/plain": [
       "\u001b[2;36m[07/12/21 17:00:19]\u001b[0m\u001b[2;36m \u001b[0m\u001b[32mINFO    \u001b[0m Animation \u001b[32m26\u001b[0m : Using cached data \u001b[1m(\u001b[0mhash :   \u001b]8;id=1626084019.0791008-830243;file:///Users/artem/opt/anaconda3/lib/python3.8/site-packages/manim/renderer/cairo_renderer.py\u001b\\\u001b[2mcairo_renderer.py\u001b[0m\u001b]8;;\u001b\\\u001b[2m:100\u001b[0m\n",
       "                             144006928_581519400_461871396\u001b[1m)\u001b[0m                                  \n"
      ]
     },
     "metadata": {},
     "output_type": "display_data"
    },
    {
     "name": "stderr",
     "output_type": "stream",
     "text": [
      "                                                                                  \r"
     ]
    },
    {
     "data": {
      "text/html": [
       "<pre style=\"white-space:pre;overflow-x:auto;line-height:normal;font-family:Menlo,'DejaVu Sans Mono',consolas,'Courier New',monospace\"><span style=\"color: #7fbfbf; text-decoration-color: #7fbfbf\">                    </span><span style=\"color: #008000; text-decoration-color: #008000\">INFO    </span> Animation <span style=\"color: #008000; text-decoration-color: #008000\">27</span> : Using cached data <span style=\"font-weight: bold\">(</span>hash :   <a href=\"file:///Users/artem/opt/anaconda3/lib/python3.8/site-packages/manim/renderer/cairo_renderer.py\"><span style=\"color: #7f7f7f; text-decoration-color: #7f7f7f\">cairo_renderer.py</span></a><span style=\"color: #7f7f7f; text-decoration-color: #7f7f7f\">:100</span>\n",
       "                             144006928_581519400_461871396<span style=\"font-weight: bold\">)</span>                                  \n",
       "</pre>\n"
      ],
      "text/plain": [
       "\u001b[2;36m                   \u001b[0m\u001b[2;36m \u001b[0m\u001b[32mINFO    \u001b[0m Animation \u001b[32m27\u001b[0m : Using cached data \u001b[1m(\u001b[0mhash :   \u001b]8;id=1626084019.504531-423611;file:///Users/artem/opt/anaconda3/lib/python3.8/site-packages/manim/renderer/cairo_renderer.py\u001b\\\u001b[2mcairo_renderer.py\u001b[0m\u001b]8;;\u001b\\\u001b[2m:100\u001b[0m\n",
       "                             144006928_581519400_461871396\u001b[1m)\u001b[0m                                  \n"
      ]
     },
     "metadata": {},
     "output_type": "display_data"
    },
    {
     "name": "stderr",
     "output_type": "stream",
     "text": [
      "                                                                                  \r"
     ]
    },
    {
     "data": {
      "text/html": [
       "<pre style=\"white-space:pre;overflow-x:auto;line-height:normal;font-family:Menlo,'DejaVu Sans Mono',consolas,'Courier New',monospace\"><span style=\"color: #7fbfbf; text-decoration-color: #7fbfbf\">[07/12/21 17:00:20] </span><span style=\"color: #008000; text-decoration-color: #008000\">INFO    </span> Animation <span style=\"color: #008000; text-decoration-color: #008000\">28</span> : Partial movie file       <a href=\"file:///Users/artem/opt/anaconda3/lib/python3.8/site-packages/manim/scene/scene_file_writer.py\"><span style=\"color: #7f7f7f; text-decoration-color: #7f7f7f\">scene_file_writer.py</span></a><span style=\"color: #7f7f7f; text-decoration-color: #7f7f7f\">:413</span>\n",
       "                             written in <span style=\"color: #008000; text-decoration-color: #008000\">'/Users/artem/Documents/Pyth</span>                         \n",
       "                             <span style=\"color: #008000; text-decoration-color: #008000\">on/Manim/media/videos/Manim/1080p60/par</span>                         \n",
       "                             <span style=\"color: #008000; text-decoration-color: #008000\">tial_movie_files/Thalamus_</span><span style=\"color: #808000; text-decoration-color: #808000; font-weight: bold\">scene</span><span style=\"color: #008000; text-decoration-color: #008000\">/1440069</span>                         \n",
       "                             <span style=\"color: #008000; text-decoration-color: #008000\">28_1436967627_1232580521.mp4'</span>                                   \n",
       "</pre>\n"
      ],
      "text/plain": [
       "\u001b[2;36m[07/12/21 17:00:20]\u001b[0m\u001b[2;36m \u001b[0m\u001b[32mINFO    \u001b[0m Animation \u001b[32m28\u001b[0m : Partial movie file       \u001b]8;id=1626084020.667639-452103;file:///Users/artem/opt/anaconda3/lib/python3.8/site-packages/manim/scene/scene_file_writer.py\u001b\\\u001b[2mscene_file_writer.py\u001b[0m\u001b]8;;\u001b\\\u001b[2m:413\u001b[0m\n",
       "                             written in \u001b[32m'/Users/artem/Documents/Pyth\u001b[0m                         \n",
       "                             \u001b[32mon/Manim/media/videos/Manim/1080p60/par\u001b[0m                         \n",
       "                             \u001b[32mtial_movie_files/Thalamus_\u001b[0m\u001b[1;33mscene\u001b[0m\u001b[32m/1440069\u001b[0m                         \n",
       "                             \u001b[32m28_1436967627_1232580521.mp4'\u001b[0m                                   \n"
      ]
     },
     "metadata": {},
     "output_type": "display_data"
    },
    {
     "name": "stderr",
     "output_type": "stream",
     "text": [
      "                                                                                    \r"
     ]
    },
    {
     "data": {
      "text/html": [
       "<pre style=\"white-space:pre;overflow-x:auto;line-height:normal;font-family:Menlo,'DejaVu Sans Mono',consolas,'Courier New',monospace\"><span style=\"color: #7fbfbf; text-decoration-color: #7fbfbf\">[07/12/21 17:00:25] </span><span style=\"color: #008000; text-decoration-color: #008000\">INFO    </span> Animation <span style=\"color: #008000; text-decoration-color: #008000\">29</span> : Partial movie file       <a href=\"file:///Users/artem/opt/anaconda3/lib/python3.8/site-packages/manim/scene/scene_file_writer.py\"><span style=\"color: #7f7f7f; text-decoration-color: #7f7f7f\">scene_file_writer.py</span></a><span style=\"color: #7f7f7f; text-decoration-color: #7f7f7f\">:413</span>\n",
       "                             written in <span style=\"color: #008000; text-decoration-color: #008000\">'/Users/artem/Documents/Pyth</span>                         \n",
       "                             <span style=\"color: #008000; text-decoration-color: #008000\">on/Manim/media/videos/Manim/1080p60/par</span>                         \n",
       "                             <span style=\"color: #008000; text-decoration-color: #008000\">tial_movie_files/Thalamus_</span><span style=\"color: #808000; text-decoration-color: #808000; font-weight: bold\">scene</span><span style=\"color: #008000; text-decoration-color: #008000\">/1440069</span>                         \n",
       "                             <span style=\"color: #008000; text-decoration-color: #008000\">28_4233113116_430121056.mp4'</span>                                    \n",
       "</pre>\n"
      ],
      "text/plain": [
       "\u001b[2;36m[07/12/21 17:00:25]\u001b[0m\u001b[2;36m \u001b[0m\u001b[32mINFO    \u001b[0m Animation \u001b[32m29\u001b[0m : Partial movie file       \u001b]8;id=1626084025.0589151-182397;file:///Users/artem/opt/anaconda3/lib/python3.8/site-packages/manim/scene/scene_file_writer.py\u001b\\\u001b[2mscene_file_writer.py\u001b[0m\u001b]8;;\u001b\\\u001b[2m:413\u001b[0m\n",
       "                             written in \u001b[32m'/Users/artem/Documents/Pyth\u001b[0m                         \n",
       "                             \u001b[32mon/Manim/media/videos/Manim/1080p60/par\u001b[0m                         \n",
       "                             \u001b[32mtial_movie_files/Thalamus_\u001b[0m\u001b[1;33mscene\u001b[0m\u001b[32m/1440069\u001b[0m                         \n",
       "                             \u001b[32m28_4233113116_430121056.mp4'\u001b[0m                                    \n"
      ]
     },
     "metadata": {},
     "output_type": "display_data"
    },
    {
     "name": "stderr",
     "output_type": "stream",
     "text": [
      "                                                                                    \r"
     ]
    },
    {
     "data": {
      "text/html": [
       "<pre style=\"white-space:pre;overflow-x:auto;line-height:normal;font-family:Menlo,'DejaVu Sans Mono',consolas,'Courier New',monospace\"><span style=\"color: #7fbfbf; text-decoration-color: #7fbfbf\">[07/12/21 17:00:29] </span><span style=\"color: #008000; text-decoration-color: #008000\">INFO    </span> Animation <span style=\"color: #008000; text-decoration-color: #008000\">30</span> : Partial movie file       <a href=\"file:///Users/artem/opt/anaconda3/lib/python3.8/site-packages/manim/scene/scene_file_writer.py\"><span style=\"color: #7f7f7f; text-decoration-color: #7f7f7f\">scene_file_writer.py</span></a><span style=\"color: #7f7f7f; text-decoration-color: #7f7f7f\">:413</span>\n",
       "                             written in <span style=\"color: #008000; text-decoration-color: #008000\">'/Users/artem/Documents/Pyth</span>                         \n",
       "                             <span style=\"color: #008000; text-decoration-color: #008000\">on/Manim/media/videos/Manim/1080p60/par</span>                         \n",
       "                             <span style=\"color: #008000; text-decoration-color: #008000\">tial_movie_files/Thalamus_</span><span style=\"color: #808000; text-decoration-color: #808000; font-weight: bold\">scene</span><span style=\"color: #008000; text-decoration-color: #008000\">/1440069</span>                         \n",
       "                             <span style=\"color: #008000; text-decoration-color: #008000\">28_1372977726_430121056.mp4'</span>                                    \n",
       "</pre>\n"
      ],
      "text/plain": [
       "\u001b[2;36m[07/12/21 17:00:29]\u001b[0m\u001b[2;36m \u001b[0m\u001b[32mINFO    \u001b[0m Animation \u001b[32m30\u001b[0m : Partial movie file       \u001b]8;id=1626084029.4600909-456582;file:///Users/artem/opt/anaconda3/lib/python3.8/site-packages/manim/scene/scene_file_writer.py\u001b\\\u001b[2mscene_file_writer.py\u001b[0m\u001b]8;;\u001b\\\u001b[2m:413\u001b[0m\n",
       "                             written in \u001b[32m'/Users/artem/Documents/Pyth\u001b[0m                         \n",
       "                             \u001b[32mon/Manim/media/videos/Manim/1080p60/par\u001b[0m                         \n",
       "                             \u001b[32mtial_movie_files/Thalamus_\u001b[0m\u001b[1;33mscene\u001b[0m\u001b[32m/1440069\u001b[0m                         \n",
       "                             \u001b[32m28_1372977726_430121056.mp4'\u001b[0m                                    \n"
      ]
     },
     "metadata": {},
     "output_type": "display_data"
    },
    {
     "data": {
      "text/html": [
       "<pre style=\"white-space:pre;overflow-x:auto;line-height:normal;font-family:Menlo,'DejaVu Sans Mono',consolas,'Courier New',monospace\"><span style=\"color: #7fbfbf; text-decoration-color: #7fbfbf\">                    </span><span style=\"color: #008000; text-decoration-color: #008000\">INFO    </span> Animation <span style=\"color: #008000; text-decoration-color: #008000\">31</span> : Using cached data <span style=\"font-weight: bold\">(</span>hash :   <a href=\"file:///Users/artem/opt/anaconda3/lib/python3.8/site-packages/manim/renderer/cairo_renderer.py\"><span style=\"color: #7f7f7f; text-decoration-color: #7f7f7f\">cairo_renderer.py</span></a><span style=\"color: #7f7f7f; text-decoration-color: #7f7f7f\">:100</span>\n",
       "                             144006928_1372977726_430121056<span style=\"font-weight: bold\">)</span>                                 \n",
       "</pre>\n"
      ],
      "text/plain": [
       "\u001b[2;36m                   \u001b[0m\u001b[2;36m \u001b[0m\u001b[32mINFO    \u001b[0m Animation \u001b[32m31\u001b[0m : Using cached data \u001b[1m(\u001b[0mhash :   \u001b]8;id=1626084029.756595-186125;file:///Users/artem/opt/anaconda3/lib/python3.8/site-packages/manim/renderer/cairo_renderer.py\u001b\\\u001b[2mcairo_renderer.py\u001b[0m\u001b]8;;\u001b\\\u001b[2m:100\u001b[0m\n",
       "                             144006928_1372977726_430121056\u001b[1m)\u001b[0m                                 \n"
      ]
     },
     "metadata": {},
     "output_type": "display_data"
    },
    {
     "name": "stderr",
     "output_type": "stream",
     "text": [
      "                                                                                  \r"
     ]
    },
    {
     "data": {
      "text/html": [
       "<pre style=\"white-space:pre;overflow-x:auto;line-height:normal;font-family:Menlo,'DejaVu Sans Mono',consolas,'Courier New',monospace\"><span style=\"color: #7fbfbf; text-decoration-color: #7fbfbf\">[07/12/21 17:00:30] </span><span style=\"color: #008000; text-decoration-color: #008000\">INFO    </span> Animation <span style=\"color: #008000; text-decoration-color: #008000\">32</span> : Using cached data <span style=\"font-weight: bold\">(</span>hash :   <a href=\"file:///Users/artem/opt/anaconda3/lib/python3.8/site-packages/manim/renderer/cairo_renderer.py\"><span style=\"color: #7f7f7f; text-decoration-color: #7f7f7f\">cairo_renderer.py</span></a><span style=\"color: #7f7f7f; text-decoration-color: #7f7f7f\">:100</span>\n",
       "                             144006928_1372977726_430121056<span style=\"font-weight: bold\">)</span>                                 \n",
       "</pre>\n"
      ],
      "text/plain": [
       "\u001b[2;36m[07/12/21 17:00:30]\u001b[0m\u001b[2;36m \u001b[0m\u001b[32mINFO    \u001b[0m Animation \u001b[32m32\u001b[0m : Using cached data \u001b[1m(\u001b[0mhash :   \u001b]8;id=1626084030.199199-681690;file:///Users/artem/opt/anaconda3/lib/python3.8/site-packages/manim/renderer/cairo_renderer.py\u001b\\\u001b[2mcairo_renderer.py\u001b[0m\u001b]8;;\u001b\\\u001b[2m:100\u001b[0m\n",
       "                             144006928_1372977726_430121056\u001b[1m)\u001b[0m                                 \n"
      ]
     },
     "metadata": {},
     "output_type": "display_data"
    },
    {
     "name": "stderr",
     "output_type": "stream",
     "text": [
      "                                                                                  \r"
     ]
    },
    {
     "data": {
      "text/html": [
       "<pre style=\"white-space:pre;overflow-x:auto;line-height:normal;font-family:Menlo,'DejaVu Sans Mono',consolas,'Courier New',monospace\"><span style=\"color: #7fbfbf; text-decoration-color: #7fbfbf\">                    </span><span style=\"color: #008000; text-decoration-color: #008000\">INFO    </span> Animation <span style=\"color: #008000; text-decoration-color: #008000\">33</span> : Using cached data <span style=\"font-weight: bold\">(</span>hash :   <a href=\"file:///Users/artem/opt/anaconda3/lib/python3.8/site-packages/manim/renderer/cairo_renderer.py\"><span style=\"color: #7f7f7f; text-decoration-color: #7f7f7f\">cairo_renderer.py</span></a><span style=\"color: #7f7f7f; text-decoration-color: #7f7f7f\">:100</span>\n",
       "                             144006928_1372977726_430121056<span style=\"font-weight: bold\">)</span>                                 \n",
       "</pre>\n"
      ],
      "text/plain": [
       "\u001b[2;36m                   \u001b[0m\u001b[2;36m \u001b[0m\u001b[32mINFO    \u001b[0m Animation \u001b[32m33\u001b[0m : Using cached data \u001b[1m(\u001b[0mhash :   \u001b]8;id=1626084030.647923-64579;file:///Users/artem/opt/anaconda3/lib/python3.8/site-packages/manim/renderer/cairo_renderer.py\u001b\\\u001b[2mcairo_renderer.py\u001b[0m\u001b]8;;\u001b\\\u001b[2m:100\u001b[0m\n",
       "                             144006928_1372977726_430121056\u001b[1m)\u001b[0m                                 \n"
      ]
     },
     "metadata": {},
     "output_type": "display_data"
    },
    {
     "name": "stderr",
     "output_type": "stream",
     "text": [
      "                                                                                  \r"
     ]
    },
    {
     "data": {
      "text/html": [
       "<pre style=\"white-space:pre;overflow-x:auto;line-height:normal;font-family:Menlo,'DejaVu Sans Mono',consolas,'Courier New',monospace\"><span style=\"color: #7fbfbf; text-decoration-color: #7fbfbf\">[07/12/21 17:00:31] </span><span style=\"color: #008000; text-decoration-color: #008000\">INFO    </span> Animation <span style=\"color: #008000; text-decoration-color: #008000\">34</span> : Using cached data <span style=\"font-weight: bold\">(</span>hash :   <a href=\"file:///Users/artem/opt/anaconda3/lib/python3.8/site-packages/manim/renderer/cairo_renderer.py\"><span style=\"color: #7f7f7f; text-decoration-color: #7f7f7f\">cairo_renderer.py</span></a><span style=\"color: #7f7f7f; text-decoration-color: #7f7f7f\">:100</span>\n",
       "                             144006928_1372977726_430121056<span style=\"font-weight: bold\">)</span>                                 \n",
       "</pre>\n"
      ],
      "text/plain": [
       "\u001b[2;36m[07/12/21 17:00:31]\u001b[0m\u001b[2;36m \u001b[0m\u001b[32mINFO    \u001b[0m Animation \u001b[32m34\u001b[0m : Using cached data \u001b[1m(\u001b[0mhash :   \u001b]8;id=1626084031.09357-178625;file:///Users/artem/opt/anaconda3/lib/python3.8/site-packages/manim/renderer/cairo_renderer.py\u001b\\\u001b[2mcairo_renderer.py\u001b[0m\u001b]8;;\u001b\\\u001b[2m:100\u001b[0m\n",
       "                             144006928_1372977726_430121056\u001b[1m)\u001b[0m                                 \n"
      ]
     },
     "metadata": {},
     "output_type": "display_data"
    },
    {
     "name": "stderr",
     "output_type": "stream",
     "text": [
      "                                                                                  \r"
     ]
    },
    {
     "data": {
      "text/html": [
       "<pre style=\"white-space:pre;overflow-x:auto;line-height:normal;font-family:Menlo,'DejaVu Sans Mono',consolas,'Courier New',monospace\"><span style=\"color: #7fbfbf; text-decoration-color: #7fbfbf\">                    </span><span style=\"color: #008000; text-decoration-color: #008000\">INFO    </span> Animation <span style=\"color: #008000; text-decoration-color: #008000\">35</span> : Using cached data <span style=\"font-weight: bold\">(</span>hash :   <a href=\"file:///Users/artem/opt/anaconda3/lib/python3.8/site-packages/manim/renderer/cairo_renderer.py\"><span style=\"color: #7f7f7f; text-decoration-color: #7f7f7f\">cairo_renderer.py</span></a><span style=\"color: #7f7f7f; text-decoration-color: #7f7f7f\">:100</span>\n",
       "                             144006928_1372977726_430121056<span style=\"font-weight: bold\">)</span>                                 \n",
       "</pre>\n"
      ],
      "text/plain": [
       "\u001b[2;36m                   \u001b[0m\u001b[2;36m \u001b[0m\u001b[32mINFO    \u001b[0m Animation \u001b[32m35\u001b[0m : Using cached data \u001b[1m(\u001b[0mhash :   \u001b]8;id=1626084031.54071-582248;file:///Users/artem/opt/anaconda3/lib/python3.8/site-packages/manim/renderer/cairo_renderer.py\u001b\\\u001b[2mcairo_renderer.py\u001b[0m\u001b]8;;\u001b\\\u001b[2m:100\u001b[0m\n",
       "                             144006928_1372977726_430121056\u001b[1m)\u001b[0m                                 \n"
      ]
     },
     "metadata": {},
     "output_type": "display_data"
    },
    {
     "name": "stderr",
     "output_type": "stream",
     "text": [
      "                                                                                  \r"
     ]
    },
    {
     "data": {
      "text/html": [
       "<pre style=\"white-space:pre;overflow-x:auto;line-height:normal;font-family:Menlo,'DejaVu Sans Mono',consolas,'Courier New',monospace\"><span style=\"color: #7fbfbf; text-decoration-color: #7fbfbf\">[07/12/21 17:00:33] </span><span style=\"color: #008000; text-decoration-color: #008000\">INFO    </span> Animation <span style=\"color: #008000; text-decoration-color: #008000\">36</span> : Partial movie file       <a href=\"file:///Users/artem/opt/anaconda3/lib/python3.8/site-packages/manim/scene/scene_file_writer.py\"><span style=\"color: #7f7f7f; text-decoration-color: #7f7f7f\">scene_file_writer.py</span></a><span style=\"color: #7f7f7f; text-decoration-color: #7f7f7f\">:413</span>\n",
       "                             written in <span style=\"color: #008000; text-decoration-color: #008000\">'/Users/artem/Documents/Pyth</span>                         \n",
       "                             <span style=\"color: #008000; text-decoration-color: #008000\">on/Manim/media/videos/Manim/1080p60/par</span>                         \n",
       "                             <span style=\"color: #008000; text-decoration-color: #008000\">tial_movie_files/Thalamus_</span><span style=\"color: #808000; text-decoration-color: #808000; font-weight: bold\">scene</span><span style=\"color: #008000; text-decoration-color: #008000\">/1440069</span>                         \n",
       "                             <span style=\"color: #008000; text-decoration-color: #008000\">28_1926486247_3379920505.mp4'</span>                                   \n",
       "</pre>\n"
      ],
      "text/plain": [
       "\u001b[2;36m[07/12/21 17:00:33]\u001b[0m\u001b[2;36m \u001b[0m\u001b[32mINFO    \u001b[0m Animation \u001b[32m36\u001b[0m : Partial movie file       \u001b]8;id=1626084033.142439-33884;file:///Users/artem/opt/anaconda3/lib/python3.8/site-packages/manim/scene/scene_file_writer.py\u001b\\\u001b[2mscene_file_writer.py\u001b[0m\u001b]8;;\u001b\\\u001b[2m:413\u001b[0m\n",
       "                             written in \u001b[32m'/Users/artem/Documents/Pyth\u001b[0m                         \n",
       "                             \u001b[32mon/Manim/media/videos/Manim/1080p60/par\u001b[0m                         \n",
       "                             \u001b[32mtial_movie_files/Thalamus_\u001b[0m\u001b[1;33mscene\u001b[0m\u001b[32m/1440069\u001b[0m                         \n",
       "                             \u001b[32m28_1926486247_3379920505.mp4'\u001b[0m                                   \n"
      ]
     },
     "metadata": {},
     "output_type": "display_data"
    },
    {
     "data": {
      "text/html": [
       "<pre style=\"white-space:pre;overflow-x:auto;line-height:normal;font-family:Menlo,'DejaVu Sans Mono',consolas,'Courier New',monospace\"><span style=\"color: #7fbfbf; text-decoration-color: #7fbfbf\">                    </span><span style=\"color: #008000; text-decoration-color: #008000\">INFO    </span>                                         <a href=\"file:///Users/artem/opt/anaconda3/lib/python3.8/site-packages/manim/scene/scene_file_writer.py\"><span style=\"color: #7f7f7f; text-decoration-color: #7f7f7f\">scene_file_writer.py</span></a><span style=\"color: #7f7f7f; text-decoration-color: #7f7f7f\">:597</span>\n",
       "                             <span style=\"color: #808000; text-decoration-color: #808000; font-weight: bold\">File</span> ready at <span style=\"color: #008000; text-decoration-color: #008000\">'/Users/artem/Documents/P</span>                         \n",
       "                             <span style=\"color: #008000; text-decoration-color: #008000\">ython/Manim/media/videos/Manim/1080p60/</span>                         \n",
       "                             <span style=\"color: #008000; text-decoration-color: #008000\">Thalamus_</span><span style=\"color: #808000; text-decoration-color: #808000; font-weight: bold\">scene</span><span style=\"color: #008000; text-decoration-color: #008000\">.mp4'</span>                                             \n",
       "                                                                                             \n",
       "</pre>\n"
      ],
      "text/plain": [
       "\u001b[2;36m                   \u001b[0m\u001b[2;36m \u001b[0m\u001b[32mINFO    \u001b[0m                                         \u001b]8;id=1626084033.4713979-158844;file:///Users/artem/opt/anaconda3/lib/python3.8/site-packages/manim/scene/scene_file_writer.py\u001b\\\u001b[2mscene_file_writer.py\u001b[0m\u001b]8;;\u001b\\\u001b[2m:597\u001b[0m\n",
       "                             \u001b[1;33mFile\u001b[0m ready at \u001b[32m'/Users/artem/Documents/P\u001b[0m                         \n",
       "                             \u001b[32mython/Manim/media/videos/Manim/1080p60/\u001b[0m                         \n",
       "                             \u001b[32mThalamus_\u001b[0m\u001b[1;33mscene\u001b[0m\u001b[32m.mp4'\u001b[0m                                             \n",
       "                                                                                             \n"
      ]
     },
     "metadata": {},
     "output_type": "display_data"
    },
    {
     "data": {
      "text/html": [
       "<pre style=\"white-space:pre;overflow-x:auto;line-height:normal;font-family:Menlo,'DejaVu Sans Mono',consolas,'Courier New',monospace\"><span style=\"color: #7fbfbf; text-decoration-color: #7fbfbf\">                    </span><span style=\"color: #008000; text-decoration-color: #008000\">INFO    </span> The partial movie directory is full <span style=\"font-weight: bold\">(</span>&gt;  <a href=\"file:///Users/artem/opt/anaconda3/lib/python3.8/site-packages/manim/scene/scene_file_writer.py\"><span style=\"color: #7f7f7f; text-decoration-color: #7f7f7f\">scene_file_writer.py</span></a><span style=\"color: #7f7f7f; text-decoration-color: #7f7f7f\">:575</span>\n",
       "                             <span style=\"color: #008000; text-decoration-color: #008000\">100</span> files<span style=\"font-weight: bold\">)</span>. Therefore, manim has                                \n",
       "                             removed <span style=\"color: #008000; text-decoration-color: #008000\">12</span> <span style=\"color: #800080; text-decoration-color: #800080; font-weight: bold\">file</span><span style=\"font-weight: bold\">(</span>s<span style=\"font-weight: bold\">)</span> used by it the                               \n",
       "                             longest ago.You can change this                                 \n",
       "                             behaviour by changing max_files_cached                          \n",
       "                             in config.                                                      \n",
       "</pre>\n"
      ],
      "text/plain": [
       "\u001b[2;36m                   \u001b[0m\u001b[2;36m \u001b[0m\u001b[32mINFO    \u001b[0m The partial movie directory is full \u001b[1m(\u001b[0m>  \u001b]8;id=1626084033.4878201-205424;file:///Users/artem/opt/anaconda3/lib/python3.8/site-packages/manim/scene/scene_file_writer.py\u001b\\\u001b[2mscene_file_writer.py\u001b[0m\u001b]8;;\u001b\\\u001b[2m:575\u001b[0m\n",
       "                             \u001b[32m100\u001b[0m files\u001b[1m)\u001b[0m. Therefore, manim has                                \n",
       "                             removed \u001b[32m12\u001b[0m \u001b[1;35mfile\u001b[0m\u001b[1m(\u001b[0ms\u001b[1m)\u001b[0m used by it the                               \n",
       "                             longest ago.You can change this                                 \n",
       "                             behaviour by changing max_files_cached                          \n",
       "                             in config.                                                      \n"
      ]
     },
     "metadata": {},
     "output_type": "display_data"
    },
    {
     "data": {
      "text/html": [
       "<pre style=\"white-space:pre;overflow-x:auto;line-height:normal;font-family:Menlo,'DejaVu Sans Mono',consolas,'Courier New',monospace\"><span style=\"color: #7fbfbf; text-decoration-color: #7fbfbf\">                    </span><span style=\"color: #008000; text-decoration-color: #008000\">INFO    </span> <span style=\"color: #808000; text-decoration-color: #808000; font-weight: bold\">Rendered</span> Thalamus_<span style=\"color: #808000; text-decoration-color: #808000; font-weight: bold\">scene</span>                             <a href=\"file:///Users/artem/opt/anaconda3/lib/python3.8/site-packages/manim/scene/scene.py\"><span style=\"color: #7f7f7f; text-decoration-color: #7f7f7f\">scene.py</span></a><span style=\"color: #7f7f7f; text-decoration-color: #7f7f7f\">:228</span>\n",
       "                             <span style=\"color: #808000; text-decoration-color: #808000; font-weight: bold\">Played</span> <span style=\"color: #008000; text-decoration-color: #008000\">37</span> <span style=\"color: #808000; text-decoration-color: #808000; font-weight: bold\">animations</span>                                            \n",
       "</pre>\n"
      ],
      "text/plain": [
       "\u001b[2;36m                   \u001b[0m\u001b[2;36m \u001b[0m\u001b[32mINFO    \u001b[0m \u001b[1;33mRendered\u001b[0m Thalamus_\u001b[1;33mscene\u001b[0m                             \u001b]8;id=1626084033.498484-715194;file:///Users/artem/opt/anaconda3/lib/python3.8/site-packages/manim/scene/scene.py\u001b\\\u001b[2mscene.py\u001b[0m\u001b]8;;\u001b\\\u001b[2m:228\u001b[0m\n",
       "                             \u001b[1;33mPlayed\u001b[0m \u001b[32m37\u001b[0m \u001b[1;33manimations\u001b[0m                                            \n"
      ]
     },
     "metadata": {},
     "output_type": "display_data"
    },
    {
     "data": {
      "text/html": [
       "<video src=\"media/jupyter/Thalamus_scene@2021-07-12@17-00-33.mp4\" controls autoplay loop style=\"max-width: 25vw;\"  >\n",
       "      Your browser does not support the <code>video</code> element.\n",
       "    </video>"
      ],
      "text/plain": [
       "<IPython.core.display.Video object>"
      ]
     },
     "metadata": {},
     "output_type": "display_data"
    }
   ],
   "source": [
    "%manim Thalamus_scene"
   ]
  },
  {
   "cell_type": "code",
   "execution_count": 142,
   "id": "6359bdfc",
   "metadata": {},
   "outputs": [],
   "source": [
    "class beam_scene(Scene):\n",
    "\n",
    "    def construct(self):\n",
    "        self.camera.background_color = WHITE\n",
    "        thalamus = ImageMobject(\"images/Attention/Thalamus.png\").scale(0.4).to_edge(0.2*UP)\n",
    "        self.add(thalamus)\n",
    "        theta = PI/12\n",
    "        R = 4.8\n",
    "        radius = Line(thalamus.get_center(),thalamus.get_center()+[-R*np.cos(theta), -R*np.sin(theta),0])\n",
    "        icon_paths = [\"images/Attention/eye.svg\", \"images/Attention/ear.svg\",\"images/Attention/arm.svg\", \"images/Attention/mouth.svg\",\"images/Attention/balance.svg\",\"images/Attention/stomach.svg\"]\n",
    "        iconMobjects = []\n",
    "        arrowMobjects = []\n",
    "        for i in range(len(icon_paths)):\n",
    "            icon = SVGMobject(icon_paths[i])\n",
    "            angle = theta+i*PI/len(icon_paths)\n",
    "            icon.scale(0.5).move_to(thalamus.get_center()+[-R*np.cos(angle), -R*np.sin(angle),0])\n",
    "            self.add(icon)\n",
    "            \n",
    "            \n",
    "            arrow = connect_with_arrow(icon,thalamus,sourceOffset=0.12,targetOffset=-0.4)\n",
    "            self.add(arrow)\n",
    "            iconMobjects.append(icon)\n",
    "            arrowMobjects.append(arrow)\n",
    "            \n",
    "        cortex = ImageMobject(\"images/Attention/cortex.png\").scale(0.67)\n",
    "        cortex.next_to(thalamus,2*UP)\n",
    "        self.add(cortex)\n",
    "        senses_group=Group(*arrowMobjects,*iconMobjects,thalamus,cortex)\n",
    "        senses_group.scale(0.65).to_edge(DOWN)\n",
    "    \n",
    "        self.add(connect_with_arrow(thalamus, cortex,sourceOffset=0.2,targetOffset=-0.4))\n",
    "        self.play(\n",
    "            Write(Text(\"Thalamus\").to_edge(LEFT).scale(0.75).set_color(BLACK)),\n",
    "            Write(Text(\"Cortex\").to_edge(LEFT+UP).scale(0.75).set_color(BLACK)))\n",
    "        \n"
   ]
  },
  {
   "cell_type": "code",
   "execution_count": 143,
   "id": "222e5473",
   "metadata": {},
   "outputs": [
    {
     "name": "stderr",
     "output_type": "stream",
     "text": [
      "                                                                                           \r"
     ]
    },
    {
     "data": {
      "text/html": [
       "<pre style=\"white-space:pre;overflow-x:auto;line-height:normal;font-family:Menlo,'DejaVu Sans Mono',consolas,'Courier New',monospace\"><span style=\"color: #7fbfbf; text-decoration-color: #7fbfbf\">[07/12/21 16:59:12] </span><span style=\"color: #008000; text-decoration-color: #008000\">INFO    </span> Animation <span style=\"color: #008000; text-decoration-color: #008000\">0</span> : Partial movie file        <a href=\"file:///Users/artem/opt/anaconda3/lib/python3.8/site-packages/manim/scene/scene_file_writer.py\"><span style=\"color: #7f7f7f; text-decoration-color: #7f7f7f\">scene_file_writer.py</span></a><span style=\"color: #7f7f7f; text-decoration-color: #7f7f7f\">:413</span>\n",
       "                             written in <span style=\"color: #008000; text-decoration-color: #008000\">'/Users/artem/Documents/Pyth</span>                         \n",
       "                             <span style=\"color: #008000; text-decoration-color: #008000\">on/Manim/media/videos/Manim/1080p60/par</span>                         \n",
       "                             <span style=\"color: #008000; text-decoration-color: #008000\">tial_movie_files/beam_</span><span style=\"color: #808000; text-decoration-color: #808000; font-weight: bold\">scene</span><span style=\"color: #008000; text-decoration-color: #008000\">/3044240666_</span>                         \n",
       "                             <span style=\"color: #008000; text-decoration-color: #008000\">564448213_1441391750.mp4'</span>                                       \n",
       "</pre>\n"
      ],
      "text/plain": [
       "\u001b[2;36m[07/12/21 16:59:12]\u001b[0m\u001b[2;36m \u001b[0m\u001b[32mINFO    \u001b[0m Animation \u001b[32m0\u001b[0m : Partial movie file        \u001b]8;id=1626083952.997817-662096;file:///Users/artem/opt/anaconda3/lib/python3.8/site-packages/manim/scene/scene_file_writer.py\u001b\\\u001b[2mscene_file_writer.py\u001b[0m\u001b]8;;\u001b\\\u001b[2m:413\u001b[0m\n",
       "                             written in \u001b[32m'/Users/artem/Documents/Pyth\u001b[0m                         \n",
       "                             \u001b[32mon/Manim/media/videos/Manim/1080p60/par\u001b[0m                         \n",
       "                             \u001b[32mtial_movie_files/beam_\u001b[0m\u001b[1;33mscene\u001b[0m\u001b[32m/3044240666_\u001b[0m                         \n",
       "                             \u001b[32m564448213_1441391750.mp4'\u001b[0m                                       \n"
      ]
     },
     "metadata": {},
     "output_type": "display_data"
    },
    {
     "data": {
      "text/html": [
       "<pre style=\"white-space:pre;overflow-x:auto;line-height:normal;font-family:Menlo,'DejaVu Sans Mono',consolas,'Courier New',monospace\"><span style=\"color: #7fbfbf; text-decoration-color: #7fbfbf\">[07/12/21 16:59:13] </span><span style=\"color: #008000; text-decoration-color: #008000\">INFO    </span>                                         <a href=\"file:///Users/artem/opt/anaconda3/lib/python3.8/site-packages/manim/scene/scene_file_writer.py\"><span style=\"color: #7f7f7f; text-decoration-color: #7f7f7f\">scene_file_writer.py</span></a><span style=\"color: #7f7f7f; text-decoration-color: #7f7f7f\">:597</span>\n",
       "                             <span style=\"color: #808000; text-decoration-color: #808000; font-weight: bold\">File</span> ready at <span style=\"color: #008000; text-decoration-color: #008000\">'/Users/artem/Documents/P</span>                         \n",
       "                             <span style=\"color: #008000; text-decoration-color: #008000\">ython/Manim/media/videos/Manim/1080p60/</span>                         \n",
       "                             <span style=\"color: #008000; text-decoration-color: #008000\">beam_</span><span style=\"color: #808000; text-decoration-color: #808000; font-weight: bold\">scene</span><span style=\"color: #008000; text-decoration-color: #008000\">.mp4'</span>                                                 \n",
       "                                                                                             \n",
       "</pre>\n"
      ],
      "text/plain": [
       "\u001b[2;36m[07/12/21 16:59:13]\u001b[0m\u001b[2;36m \u001b[0m\u001b[32mINFO    \u001b[0m                                         \u001b]8;id=1626083953.122297-160631;file:///Users/artem/opt/anaconda3/lib/python3.8/site-packages/manim/scene/scene_file_writer.py\u001b\\\u001b[2mscene_file_writer.py\u001b[0m\u001b]8;;\u001b\\\u001b[2m:597\u001b[0m\n",
       "                             \u001b[1;33mFile\u001b[0m ready at \u001b[32m'/Users/artem/Documents/P\u001b[0m                         \n",
       "                             \u001b[32mython/Manim/media/videos/Manim/1080p60/\u001b[0m                         \n",
       "                             \u001b[32mbeam_\u001b[0m\u001b[1;33mscene\u001b[0m\u001b[32m.mp4'\u001b[0m                                                 \n",
       "                                                                                             \n"
      ]
     },
     "metadata": {},
     "output_type": "display_data"
    },
    {
     "data": {
      "text/html": [
       "<pre style=\"white-space:pre;overflow-x:auto;line-height:normal;font-family:Menlo,'DejaVu Sans Mono',consolas,'Courier New',monospace\"><span style=\"color: #7fbfbf; text-decoration-color: #7fbfbf\">                    </span><span style=\"color: #008000; text-decoration-color: #008000\">INFO    </span> <span style=\"color: #808000; text-decoration-color: #808000; font-weight: bold\">Rendered</span> beam_<span style=\"color: #808000; text-decoration-color: #808000; font-weight: bold\">scene</span>                                 <a href=\"file:///Users/artem/opt/anaconda3/lib/python3.8/site-packages/manim/scene/scene.py\"><span style=\"color: #7f7f7f; text-decoration-color: #7f7f7f\">scene.py</span></a><span style=\"color: #7f7f7f; text-decoration-color: #7f7f7f\">:228</span>\n",
       "                             <span style=\"color: #808000; text-decoration-color: #808000; font-weight: bold\">Played</span> <span style=\"color: #008000; text-decoration-color: #008000\">1</span> <span style=\"color: #808000; text-decoration-color: #808000; font-weight: bold\">animations</span>                                             \n",
       "</pre>\n"
      ],
      "text/plain": [
       "\u001b[2;36m                   \u001b[0m\u001b[2;36m \u001b[0m\u001b[32mINFO    \u001b[0m \u001b[1;33mRendered\u001b[0m beam_\u001b[1;33mscene\u001b[0m                                 \u001b]8;id=1626083953.12604-506832;file:///Users/artem/opt/anaconda3/lib/python3.8/site-packages/manim/scene/scene.py\u001b\\\u001b[2mscene.py\u001b[0m\u001b]8;;\u001b\\\u001b[2m:228\u001b[0m\n",
       "                             \u001b[1;33mPlayed\u001b[0m \u001b[32m1\u001b[0m \u001b[1;33manimations\u001b[0m                                             \n"
      ]
     },
     "metadata": {},
     "output_type": "display_data"
    },
    {
     "data": {
      "text/html": [
       "<video src=\"media/jupyter/beam_scene@2021-07-12@16-59-13.mp4\" controls autoplay loop style=\"max-width: 25vw;\"  >\n",
       "      Your browser does not support the <code>video</code> element.\n",
       "    </video>"
      ],
      "text/plain": [
       "<IPython.core.display.Video object>"
      ]
     },
     "metadata": {},
     "output_type": "display_data"
    }
   ],
   "source": [
    "%manim beam_scene"
   ]
  },
  {
   "cell_type": "code",
   "execution_count": 188,
   "id": "2639c4ff",
   "metadata": {},
   "outputs": [],
   "source": [
    "class Attentional_system_text(Scene):\n",
    "    def construct(self):\n",
    "        self.camera.background_color = WHITE\n",
    "        group1 = VGroup(\n",
    "            Text(\"Cortex\").shift(UP).set_color(BLACK),\n",
    "            Tex(r'$\\Downarrow$').set_color(BLACK).scale(1.5),\n",
    "            Text(\"Thalamus\").shift(DOWN).set_color(BLACK))\n",
    "        \n",
    "        group2 = VGroup(\n",
    "            Text(\"Cortex\").shift(2*UP).set_color(BLACK),\n",
    "            Tex(r'$\\Downarrow$').set_color(BLACK).scale(1.5).shift(UP),\n",
    "            Text(\"Basal ganglia\").set_color(BLACK),\n",
    "            Tex(r'$\\Downarrow$').set_color(BLACK).scale(1.5).shift(DOWN),\n",
    "            Text(\"Thalamus\").shift(2*DOWN).set_color(BLACK)\n",
    "            )\n",
    "        self.play(Write(group1),run_time=2.5)\n",
    "        self.wait()\n",
    "        self.play(Transform(group1,group2),run_time=2)\n",
    "        self.wait()\n"
   ]
  },
  {
   "cell_type": "code",
   "execution_count": 189,
   "id": "eae19147",
   "metadata": {},
   "outputs": [
    {
     "data": {
      "text/html": [
       "<pre style=\"white-space:pre;overflow-x:auto;line-height:normal;font-family:Menlo,'DejaVu Sans Mono',consolas,'Courier New',monospace\"><span style=\"color: #7fbfbf; text-decoration-color: #7fbfbf\">[07/13/21 15:24:04] </span><span style=\"color: #008000; text-decoration-color: #008000\">INFO    </span> Animation <span style=\"color: #008000; text-decoration-color: #008000\">0</span> : Using cached data <span style=\"font-weight: bold\">(</span>hash :    <a href=\"file:///Users/artem/opt/anaconda3/lib/python3.8/site-packages/manim/renderer/cairo_renderer.py\"><span style=\"color: #7f7f7f; text-decoration-color: #7f7f7f\">cairo_renderer.py</span></a><span style=\"color: #7f7f7f; text-decoration-color: #7f7f7f\">:100</span>\n",
       "                             3044240666_2234625728_2235843313<span style=\"font-weight: bold\">)</span>                               \n",
       "</pre>\n"
      ],
      "text/plain": [
       "\u001b[2;36m[07/13/21 15:24:04]\u001b[0m\u001b[2;36m \u001b[0m\u001b[32mINFO    \u001b[0m Animation \u001b[32m0\u001b[0m : Using cached data \u001b[1m(\u001b[0mhash :    \u001b]8;id=1626164644.783849-949226;file:///Users/artem/opt/anaconda3/lib/python3.8/site-packages/manim/renderer/cairo_renderer.py\u001b\\\u001b[2mcairo_renderer.py\u001b[0m\u001b]8;;\u001b\\\u001b[2m:100\u001b[0m\n",
       "                             3044240666_2234625728_2235843313\u001b[1m)\u001b[0m                               \n"
      ]
     },
     "metadata": {},
     "output_type": "display_data"
    },
    {
     "name": "stderr",
     "output_type": "stream",
     "text": [
      "                                                                                  \r"
     ]
    },
    {
     "data": {
      "text/html": [
       "<pre style=\"white-space:pre;overflow-x:auto;line-height:normal;font-family:Menlo,'DejaVu Sans Mono',consolas,'Courier New',monospace\"><span style=\"color: #7fbfbf; text-decoration-color: #7fbfbf\">                    </span><span style=\"color: #008000; text-decoration-color: #008000\">INFO    </span> Animation <span style=\"color: #008000; text-decoration-color: #008000\">1</span> : Using cached data <span style=\"font-weight: bold\">(</span>hash :    <a href=\"file:///Users/artem/opt/anaconda3/lib/python3.8/site-packages/manim/renderer/cairo_renderer.py\"><span style=\"color: #7f7f7f; text-decoration-color: #7f7f7f\">cairo_renderer.py</span></a><span style=\"color: #7f7f7f; text-decoration-color: #7f7f7f\">:100</span>\n",
       "                             144006928_1926486247_3852543206<span style=\"font-weight: bold\">)</span>                                \n",
       "</pre>\n"
      ],
      "text/plain": [
       "\u001b[2;36m                   \u001b[0m\u001b[2;36m \u001b[0m\u001b[32mINFO    \u001b[0m Animation \u001b[32m1\u001b[0m : Using cached data \u001b[1m(\u001b[0mhash :    \u001b]8;id=1626164644.886334-560574;file:///Users/artem/opt/anaconda3/lib/python3.8/site-packages/manim/renderer/cairo_renderer.py\u001b\\\u001b[2mcairo_renderer.py\u001b[0m\u001b]8;;\u001b\\\u001b[2m:100\u001b[0m\n",
       "                             144006928_1926486247_3852543206\u001b[1m)\u001b[0m                                \n"
      ]
     },
     "metadata": {},
     "output_type": "display_data"
    },
    {
     "name": "stderr",
     "output_type": "stream",
     "text": [
      "                                                                                                  \r"
     ]
    },
    {
     "data": {
      "text/html": [
       "<pre style=\"white-space:pre;overflow-x:auto;line-height:normal;font-family:Menlo,'DejaVu Sans Mono',consolas,'Courier New',monospace\"><span style=\"color: #7fbfbf; text-decoration-color: #7fbfbf\">[07/13/21 15:24:08] </span><span style=\"color: #008000; text-decoration-color: #008000\">INFO    </span> Animation <span style=\"color: #008000; text-decoration-color: #008000\">2</span> : Partial movie file        <a href=\"file:///Users/artem/opt/anaconda3/lib/python3.8/site-packages/manim/scene/scene_file_writer.py\"><span style=\"color: #7f7f7f; text-decoration-color: #7f7f7f\">scene_file_writer.py</span></a><span style=\"color: #7f7f7f; text-decoration-color: #7f7f7f\">:413</span>\n",
       "                             written in <span style=\"color: #008000; text-decoration-color: #008000\">'/Users/artem/Documents/Pyth</span>                         \n",
       "                             <span style=\"color: #008000; text-decoration-color: #008000\">on/Manim/media/videos/Manim/1080p60/par</span>                         \n",
       "                             <span style=\"color: #008000; text-decoration-color: #008000\">tial_movie_files/Attentional_system_tex</span>                         \n",
       "                             <span style=\"color: #008000; text-decoration-color: #008000\">t/144006928_1832458512_3886170420.mp4'</span>                          \n",
       "</pre>\n"
      ],
      "text/plain": [
       "\u001b[2;36m[07/13/21 15:24:08]\u001b[0m\u001b[2;36m \u001b[0m\u001b[32mINFO    \u001b[0m Animation \u001b[32m2\u001b[0m : Partial movie file        \u001b]8;id=1626164648.71153-917102;file:///Users/artem/opt/anaconda3/lib/python3.8/site-packages/manim/scene/scene_file_writer.py\u001b\\\u001b[2mscene_file_writer.py\u001b[0m\u001b]8;;\u001b\\\u001b[2m:413\u001b[0m\n",
       "                             written in \u001b[32m'/Users/artem/Documents/Pyth\u001b[0m                         \n",
       "                             \u001b[32mon/Manim/media/videos/Manim/1080p60/par\u001b[0m                         \n",
       "                             \u001b[32mtial_movie_files/Attentional_system_tex\u001b[0m                         \n",
       "                             \u001b[32mt/144006928_1832458512_3886170420.mp4'\u001b[0m                          \n"
      ]
     },
     "metadata": {},
     "output_type": "display_data"
    },
    {
     "data": {
      "text/html": [
       "<pre style=\"white-space:pre;overflow-x:auto;line-height:normal;font-family:Menlo,'DejaVu Sans Mono',consolas,'Courier New',monospace\"><span style=\"color: #7fbfbf; text-decoration-color: #7fbfbf\">[07/13/21 15:24:10] </span><span style=\"color: #008000; text-decoration-color: #008000\">INFO    </span> Animation <span style=\"color: #008000; text-decoration-color: #008000\">3</span> : Partial movie file        <a href=\"file:///Users/artem/opt/anaconda3/lib/python3.8/site-packages/manim/scene/scene_file_writer.py\"><span style=\"color: #7f7f7f; text-decoration-color: #7f7f7f\">scene_file_writer.py</span></a><span style=\"color: #7f7f7f; text-decoration-color: #7f7f7f\">:413</span>\n",
       "                             written in <span style=\"color: #008000; text-decoration-color: #008000\">'/Users/artem/Documents/Pyth</span>                         \n",
       "                             <span style=\"color: #008000; text-decoration-color: #008000\">on/Manim/media/videos/Manim/1080p60/par</span>                         \n",
       "                             <span style=\"color: #008000; text-decoration-color: #008000\">tial_movie_files/Attentional_system_tex</span>                         \n",
       "                             <span style=\"color: #008000; text-decoration-color: #008000\">t/144006928_1926486247_87469484.mp4'</span>                            \n",
       "</pre>\n"
      ],
      "text/plain": [
       "\u001b[2;36m[07/13/21 15:24:10]\u001b[0m\u001b[2;36m \u001b[0m\u001b[32mINFO    \u001b[0m Animation \u001b[32m3\u001b[0m : Partial movie file        \u001b]8;id=1626164650.0101278-312113;file:///Users/artem/opt/anaconda3/lib/python3.8/site-packages/manim/scene/scene_file_writer.py\u001b\\\u001b[2mscene_file_writer.py\u001b[0m\u001b]8;;\u001b\\\u001b[2m:413\u001b[0m\n",
       "                             written in \u001b[32m'/Users/artem/Documents/Pyth\u001b[0m                         \n",
       "                             \u001b[32mon/Manim/media/videos/Manim/1080p60/par\u001b[0m                         \n",
       "                             \u001b[32mtial_movie_files/Attentional_system_tex\u001b[0m                         \n",
       "                             \u001b[32mt/144006928_1926486247_87469484.mp4'\u001b[0m                            \n"
      ]
     },
     "metadata": {},
     "output_type": "display_data"
    },
    {
     "data": {
      "text/html": [
       "<pre style=\"white-space:pre;overflow-x:auto;line-height:normal;font-family:Menlo,'DejaVu Sans Mono',consolas,'Courier New',monospace\"><span style=\"color: #7fbfbf; text-decoration-color: #7fbfbf\">                    </span><span style=\"color: #008000; text-decoration-color: #008000\">INFO    </span>                                         <a href=\"file:///Users/artem/opt/anaconda3/lib/python3.8/site-packages/manim/scene/scene_file_writer.py\"><span style=\"color: #7f7f7f; text-decoration-color: #7f7f7f\">scene_file_writer.py</span></a><span style=\"color: #7f7f7f; text-decoration-color: #7f7f7f\">:597</span>\n",
       "                             <span style=\"color: #808000; text-decoration-color: #808000; font-weight: bold\">File</span> ready at <span style=\"color: #008000; text-decoration-color: #008000\">'/Users/artem/Documents/P</span>                         \n",
       "                             <span style=\"color: #008000; text-decoration-color: #008000\">ython/Manim/media/videos/Manim/1080p60/</span>                         \n",
       "                             <span style=\"color: #008000; text-decoration-color: #008000\">Attentional_system_text.mp4'</span>                                    \n",
       "                                                                                             \n",
       "</pre>\n"
      ],
      "text/plain": [
       "\u001b[2;36m                   \u001b[0m\u001b[2;36m \u001b[0m\u001b[32mINFO    \u001b[0m                                         \u001b]8;id=1626164650.082601-868492;file:///Users/artem/opt/anaconda3/lib/python3.8/site-packages/manim/scene/scene_file_writer.py\u001b\\\u001b[2mscene_file_writer.py\u001b[0m\u001b]8;;\u001b\\\u001b[2m:597\u001b[0m\n",
       "                             \u001b[1;33mFile\u001b[0m ready at \u001b[32m'/Users/artem/Documents/P\u001b[0m                         \n",
       "                             \u001b[32mython/Manim/media/videos/Manim/1080p60/\u001b[0m                         \n",
       "                             \u001b[32mAttentional_system_text.mp4'\u001b[0m                                    \n",
       "                                                                                             \n"
      ]
     },
     "metadata": {},
     "output_type": "display_data"
    },
    {
     "data": {
      "text/html": [
       "<pre style=\"white-space:pre;overflow-x:auto;line-height:normal;font-family:Menlo,'DejaVu Sans Mono',consolas,'Courier New',monospace\"><span style=\"color: #7fbfbf; text-decoration-color: #7fbfbf\">                    </span><span style=\"color: #008000; text-decoration-color: #008000\">INFO    </span> <span style=\"color: #808000; text-decoration-color: #808000; font-weight: bold\">Rendered</span> Attentional_system_text                    <a href=\"file:///Users/artem/opt/anaconda3/lib/python3.8/site-packages/manim/scene/scene.py\"><span style=\"color: #7f7f7f; text-decoration-color: #7f7f7f\">scene.py</span></a><span style=\"color: #7f7f7f; text-decoration-color: #7f7f7f\">:228</span>\n",
       "                             <span style=\"color: #808000; text-decoration-color: #808000; font-weight: bold\">Played</span> <span style=\"color: #008000; text-decoration-color: #008000\">4</span> <span style=\"color: #808000; text-decoration-color: #808000; font-weight: bold\">animations</span>                                             \n",
       "</pre>\n"
      ],
      "text/plain": [
       "\u001b[2;36m                   \u001b[0m\u001b[2;36m \u001b[0m\u001b[32mINFO    \u001b[0m \u001b[1;33mRendered\u001b[0m Attentional_system_text                    \u001b]8;id=1626164650.0861251-522836;file:///Users/artem/opt/anaconda3/lib/python3.8/site-packages/manim/scene/scene.py\u001b\\\u001b[2mscene.py\u001b[0m\u001b]8;;\u001b\\\u001b[2m:228\u001b[0m\n",
       "                             \u001b[1;33mPlayed\u001b[0m \u001b[32m4\u001b[0m \u001b[1;33manimations\u001b[0m                                             \n"
      ]
     },
     "metadata": {},
     "output_type": "display_data"
    },
    {
     "data": {
      "text/html": [
       "<video src=\"media/jupyter/Attentional_system_text@2021-07-13@15-24-10.mp4\" controls autoplay loop style=\"max-width: 25vw;\"  >\n",
       "      Your browser does not support the <code>video</code> element.\n",
       "    </video>"
      ],
      "text/plain": [
       "<IPython.core.display.Video object>"
      ]
     },
     "metadata": {},
     "output_type": "display_data"
    }
   ],
   "source": [
    "%manim Attentional_system_text"
   ]
  },
  {
   "cell_type": "code",
   "execution_count": null,
   "id": "af90fde5",
   "metadata": {},
   "outputs": [],
   "source": []
  }
 ],
 "metadata": {
  "kernelspec": {
   "display_name": "Python 3",
   "language": "python",
   "name": "python3"
  },
  "language_info": {
   "codemirror_mode": {
    "name": "ipython",
    "version": 3
   },
   "file_extension": ".py",
   "mimetype": "text/x-python",
   "name": "python",
   "nbconvert_exporter": "python",
   "pygments_lexer": "ipython3",
   "version": "3.8.5"
  }
 },
 "nbformat": 4,
 "nbformat_minor": 5
}
